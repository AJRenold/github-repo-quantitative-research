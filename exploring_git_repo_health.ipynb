{
 "metadata": {
  "name": ""
 },
 "nbformat": 3,
 "nbformat_minor": 0,
 "worksheets": [
  {
   "cells": [
    {
     "cell_type": "markdown",
     "metadata": {},
     "source": [
      "### Imports and settings\n",
      "\n",
      "You must create a settings.py file with the string variable:\n",
      "    \n",
      "    `github_token = '<your personal GitHub API token>'`"
     ]
    },
    {
     "cell_type": "code",
     "collapsed": false,
     "input": [
      "from urllib2 import urlopen\n",
      "import json\n",
      "import re\n",
      "import pandas as pd\n",
      "from datetime import datetime\n",
      "import time\n",
      "import requests\n",
      "\n",
      "from settings import github_token\n",
      "\n",
      "ISO8601 = \"%Y-%m-%dT%H:%M:%SZ\"\n",
      "\n",
      "settings = {\n",
      "            'project': 'ipython',\n",
      "            'repo': 'ipython',\n",
      "            'github_token': github_token\n",
      "            }"
     ],
     "language": "python",
     "metadata": {},
     "outputs": [],
     "prompt_number": 1
    },
    {
     "cell_type": "markdown",
     "metadata": {},
     "source": [
      "### Github API Utils"
     ]
    },
    {
     "cell_type": "code",
     "collapsed": false,
     "input": [
      "# from https://github.com/nipy/dipy/blob/master/tools/github_stats.py\n",
      "\n",
      "element_pat = re.compile(r'<(.+?)>')\n",
      "rel_pat = re.compile(r'rel=[\\'\"](\\w+)[\\'\"]')\n",
      "\n",
      "def parseLinkHeaders(headers):\n",
      "    link_s = headers.get('link', '')\n",
      "    urls = element_pat.findall(link_s)\n",
      "    rels = rel_pat.findall(link_s)\n",
      "    d = {}\n",
      "    for rel,url in zip(rels, urls):\n",
      "        d[rel] = url\n",
      "    return d\n",
      "\n",
      "def getPagedRequest(url):\n",
      "    \"\"\"get a full list, handling APIv3's paging\"\"\"\n",
      "    results = []\n",
      "    while url:\n",
      "        #print(\"fetching %s\" % url)\n",
      "        f = urlopen(url)\n",
      "        results_json = json.load(f)\n",
      "        if type(results_json) == list:\n",
      "            results.extend(results_json)\n",
      "        else:\n",
      "            results.extend([results_json])\n",
      "        \n",
      "        links = parseLinkHeaders(f.headers)\n",
      "        url = links.get('next')\n",
      "        time.sleep(0.25)\n",
      "    return results"
     ],
     "language": "python",
     "metadata": {},
     "outputs": [],
     "prompt_number": 5
    },
    {
     "cell_type": "markdown",
     "metadata": {},
     "source": [
      "### Define Functions to Fetch from Github API"
     ]
    },
    {
     "cell_type": "code",
     "collapsed": false,
     "input": [
      "#print datetime.fromtimestamp(0).strftime(ISO8601) # for github since param\n",
      "project_url = 'https://api.github.com/repos/{project}/{repo}'.format(**settings)\n",
      "\n",
      "def getIssues(settings, project_url, state='all'):\n",
      "    url = project_url + '/issues?access_token={0}&state={1}'.format(settings['github_token'],state)\n",
      "    return getPagedRequest(url)\n",
      "\n",
      "def getIssueComments(settings, project_url, issue_id):\n",
      "    # GET /repos/:owner/:repo/issues/:number/comments\n",
      "    url = project_url + '/issues/{0}/comments?access_token={1}'.format(\n",
      "                                                                        issue_id,\n",
      "                                                                        settings['github_token'])\n",
      "    return getPagedRequest(url)\n",
      "\n",
      "def getCommits(settings, project_url):\n",
      "    # GET /repos/:owner/:repo/commits\n",
      "    url = project_url + '/commits?access_token={0}'.format(settings['github_token'])\n",
      "    return getPagedRequest(url)\n",
      "\n",
      "def getCommitInfo(settings, project_url, sha):\n",
      "    # GET /repos/:owner/:repo/commits/:sha\n",
      "    url = project_url + '/commits/{0}?access_token={1}'.format(sha, settings['github_token'])\n",
      "    #print json.load(urlopen(url))\n",
      "    return getPagedRequest(url)\n",
      "    \n",
      "def getReleases(settings, project_url):\n",
      "    # GET /repos/:owner/:repo/releases\n",
      "    pass"
     ],
     "language": "python",
     "metadata": {},
     "outputs": [],
     "prompt_number": 3
    },
    {
     "cell_type": "code",
     "collapsed": false,
     "input": [
      "getCommitInfo(settings, project_url, 'd31f0a266863e23ddfb5f68d48059a5d67f6d683')[0]"
     ],
     "language": "python",
     "metadata": {},
     "outputs": [
      {
       "output_type": "stream",
       "stream": "stdout",
       "text": [
        "fetching https://api.github.com/repos/ipython/ipython/commits/d31f0a266863e23ddfb5f68d48059a5d67f6d683?access_token=9ba710398a289db86db58f9d273c9ecf8c010df1\n"
       ]
      },
      {
       "metadata": {},
       "output_type": "pyout",
       "prompt_number": 4,
       "text": [
        "{u'author': {u'avatar_url': u'https://0.gravatar.com/avatar/d5b897c37001627c2e3ad3c1e8a7e6fb?d=https%3A%2F%2Fidenticons.github.com%2Ffd0c473f5aa5802a4e75f406e992c687.png&r=x',\n",
        "  u'events_url': u'https://api.github.com/users/minrk/events{/privacy}',\n",
        "  u'followers_url': u'https://api.github.com/users/minrk/followers',\n",
        "  u'following_url': u'https://api.github.com/users/minrk/following{/other_user}',\n",
        "  u'gists_url': u'https://api.github.com/users/minrk/gists{/gist_id}',\n",
        "  u'gravatar_id': u'd5b897c37001627c2e3ad3c1e8a7e6fb',\n",
        "  u'html_url': u'https://github.com/minrk',\n",
        "  u'id': 151929,\n",
        "  u'login': u'minrk',\n",
        "  u'organizations_url': u'https://api.github.com/users/minrk/orgs',\n",
        "  u'received_events_url': u'https://api.github.com/users/minrk/received_events',\n",
        "  u'repos_url': u'https://api.github.com/users/minrk/repos',\n",
        "  u'site_admin': False,\n",
        "  u'starred_url': u'https://api.github.com/users/minrk/starred{/owner}{/repo}',\n",
        "  u'subscriptions_url': u'https://api.github.com/users/minrk/subscriptions',\n",
        "  u'type': u'User',\n",
        "  u'url': u'https://api.github.com/users/minrk'},\n",
        " u'comments_url': u'https://api.github.com/repos/ipython/ipython/commits/d31f0a266863e23ddfb5f68d48059a5d67f6d683/comments',\n",
        " u'commit': {u'author': {u'date': u'2013-11-04T19:24:07Z',\n",
        "   u'email': u'benjaminrk@gmail.com',\n",
        "   u'name': u'MinRK'},\n",
        "  u'comment_count': 0,\n",
        "  u'committer': {u'date': u'2013-11-04T19:24:07Z',\n",
        "   u'email': u'benjaminrk@gmail.com',\n",
        "   u'name': u'MinRK'},\n",
        "  u'message': u'fix possible race condition in test_await_data\\n\\nar.data checks the latest value,\\nand was checked twice assuming no change.\\nThis could cause `4` to stop the iteration\\nbut be absent from `found`, causing test failure.',\n",
        "  u'tree': {u'sha': u'a4c9cfdc13eb62325bc0b47be320cf5055d36c7e',\n",
        "   u'url': u'https://api.github.com/repos/ipython/ipython/git/trees/a4c9cfdc13eb62325bc0b47be320cf5055d36c7e'},\n",
        "  u'url': u'https://api.github.com/repos/ipython/ipython/git/commits/d31f0a266863e23ddfb5f68d48059a5d67f6d683'},\n",
        " u'committer': {u'avatar_url': u'https://0.gravatar.com/avatar/d5b897c37001627c2e3ad3c1e8a7e6fb?d=https%3A%2F%2Fidenticons.github.com%2Ffd0c473f5aa5802a4e75f406e992c687.png&r=x',\n",
        "  u'events_url': u'https://api.github.com/users/minrk/events{/privacy}',\n",
        "  u'followers_url': u'https://api.github.com/users/minrk/followers',\n",
        "  u'following_url': u'https://api.github.com/users/minrk/following{/other_user}',\n",
        "  u'gists_url': u'https://api.github.com/users/minrk/gists{/gist_id}',\n",
        "  u'gravatar_id': u'd5b897c37001627c2e3ad3c1e8a7e6fb',\n",
        "  u'html_url': u'https://github.com/minrk',\n",
        "  u'id': 151929,\n",
        "  u'login': u'minrk',\n",
        "  u'organizations_url': u'https://api.github.com/users/minrk/orgs',\n",
        "  u'received_events_url': u'https://api.github.com/users/minrk/received_events',\n",
        "  u'repos_url': u'https://api.github.com/users/minrk/repos',\n",
        "  u'site_admin': False,\n",
        "  u'starred_url': u'https://api.github.com/users/minrk/starred{/owner}{/repo}',\n",
        "  u'subscriptions_url': u'https://api.github.com/users/minrk/subscriptions',\n",
        "  u'type': u'User',\n",
        "  u'url': u'https://api.github.com/users/minrk'},\n",
        " u'files': [{u'additions': 3,\n",
        "   u'blob_url': u'https://github.com/ipython/ipython/blob/d31f0a266863e23ddfb5f68d48059a5d67f6d683/IPython/parallel/tests/test_asyncresult.py',\n",
        "   u'changes': 5,\n",
        "   u'contents_url': u'https://api.github.com/repos/ipython/ipython/contents/IPython/parallel/tests/test_asyncresult.py?ref=d31f0a266863e23ddfb5f68d48059a5d67f6d683',\n",
        "   u'deletions': 2,\n",
        "   u'filename': u'IPython/parallel/tests/test_asyncresult.py',\n",
        "   u'patch': u\"@@ -301,8 +301,9 @@ def test_await_data(self):\\n         # timeout after 10s\\n         while time.time() <= tic + 10:\\n             if ar.data:\\n-                found.add(ar.data['i'])\\n-                if ar.data['i'] == 4:\\n+                i = ar.data['i']\\n+                found.add(i)\\n+                if i == 4:\\n                     break\\n             time.sleep(0.05)\\n         \",\n",
        "   u'raw_url': u'https://github.com/ipython/ipython/raw/d31f0a266863e23ddfb5f68d48059a5d67f6d683/IPython/parallel/tests/test_asyncresult.py',\n",
        "   u'sha': u'f330a52b266d6f38846b9f5114a07e5ac886d982',\n",
        "   u'status': u'modified'}],\n",
        " u'html_url': u'https://github.com/ipython/ipython/commit/d31f0a266863e23ddfb5f68d48059a5d67f6d683',\n",
        " u'parents': [{u'html_url': u'https://github.com/ipython/ipython/commit/af76829911b4c6bc8d2dfe7a6e143244a9b582a1',\n",
        "   u'sha': u'af76829911b4c6bc8d2dfe7a6e143244a9b582a1',\n",
        "   u'url': u'https://api.github.com/repos/ipython/ipython/commits/af76829911b4c6bc8d2dfe7a6e143244a9b582a1'}],\n",
        " u'sha': u'd31f0a266863e23ddfb5f68d48059a5d67f6d683',\n",
        " u'stats': {u'additions': 3, u'deletions': 2, u'total': 5},\n",
        " u'url': u'https://api.github.com/repos/ipython/ipython/commits/d31f0a266863e23ddfb5f68d48059a5d67f6d683'}"
       ]
      }
     ],
     "prompt_number": 4
    },
    {
     "cell_type": "markdown",
     "metadata": {},
     "source": [
      "# Research Questions to Address"
     ]
    },
    {
     "cell_type": "markdown",
     "metadata": {},
     "source": [
      "### Time between a user's first comment and first merged pull request\n",
      "\n",
      "First Comment - first pull request\n",
      "\n",
      "First pull request - first merged pull request"
     ]
    },
    {
     "cell_type": "markdown",
     "metadata": {},
     "source": [
      "### Super-linear productivity\n",
      "\n",
      "Commits / Contributors\n",
      "\n",
      "Time bins - weekly and 100 days"
     ]
    },
    {
     "cell_type": "markdown",
     "metadata": {},
     "source": [
      "### Contributor Turnover"
     ]
    },
    {
     "cell_type": "markdown",
     "metadata": {},
     "source": [
      "### Fetching / Parsing Commits"
     ]
    },
    {
     "cell_type": "code",
     "collapsed": false,
     "input": [
      "def createCommitsDataframe(commits_json=None, refresh=False):\n",
      "    \n",
      "    if not commits_json:\n",
      "        commits_json = getCommits(settings, project_url)\n",
      "    \n",
      "    if not refresh:\n",
      "        try:\n",
      "            with open('commits.json') as infile:\n",
      "                df = pd.read_json(infile)\n",
      "                return df\n",
      "        except:\n",
      "            print 'no commits.json found, getting commits and creating DataFrame'\n",
      "    \n",
      "    df = pd.DataFrame(commits_json)\n",
      "    \n",
      "    def addCommitAuthor(row):\n",
      "        # Commit can have different committer and author\n",
      "        if row['author']:\n",
      "            if row['author']['login']:\n",
      "                return row['author']['login']\n",
      "            \n",
      "    def addCommitStats(sha):\n",
      "        commit = getCommitInfo(settings, project_url, sha)[0]\n",
      "        return commit['stats']['additions'], commit['stats']['deletions']\n",
      "    \n",
      "    def addCommitDate(commit):\n",
      "        return commit['author']['date']\n",
      "\n",
      "    df['author_name'] = df.apply(addCommitAuthor, axis=1)\n",
      "    df['additions'], df['deletions'] = zip(*df.sha.apply(addCommitStats))\n",
      "    df['timestamp'] = df['commit'].apply(addCommitDate)\n",
      "    df['timestamp'] = pd.to_datetime(df.timestamp)\n",
      "    \n",
      "    return df"
     ],
     "language": "python",
     "metadata": {},
     "outputs": [],
     "prompt_number": 8
    },
    {
     "cell_type": "code",
     "collapsed": false,
     "input": [
      "commits_df = createCommitsDataframe()"
     ],
     "language": "python",
     "metadata": {},
     "outputs": [
      {
       "ename": "KeyboardInterrupt",
       "evalue": "",
       "output_type": "pyerr",
       "traceback": [
        "\u001b[0;31m---------------------------------------------------------------------------\u001b[0m\n\u001b[0;31mKeyboardInterrupt\u001b[0m                         Traceback (most recent call last)",
        "\u001b[0;32m<ipython-input-9-5ceb9d9eca67>\u001b[0m in \u001b[0;36m<module>\u001b[0;34m()\u001b[0m\n\u001b[0;32m----> 1\u001b[0;31m \u001b[0mcommits_df\u001b[0m \u001b[0;34m=\u001b[0m \u001b[0mcreateCommitsDataframe\u001b[0m\u001b[0;34m(\u001b[0m\u001b[0;34m)\u001b[0m\u001b[0;34m\u001b[0m\u001b[0m\n\u001b[0m",
        "\u001b[0;32m<ipython-input-8-d8a70f205047>\u001b[0m in \u001b[0;36mcreateCommitsDataframe\u001b[0;34m(commits_json, refresh)\u001b[0m\n\u001b[1;32m     28\u001b[0m \u001b[0;34m\u001b[0m\u001b[0m\n\u001b[1;32m     29\u001b[0m     \u001b[0mdf\u001b[0m\u001b[0;34m[\u001b[0m\u001b[0;34m'author_name'\u001b[0m\u001b[0;34m]\u001b[0m \u001b[0;34m=\u001b[0m \u001b[0mdf\u001b[0m\u001b[0;34m.\u001b[0m\u001b[0mapply\u001b[0m\u001b[0;34m(\u001b[0m\u001b[0maddCommitAuthor\u001b[0m\u001b[0;34m,\u001b[0m \u001b[0maxis\u001b[0m\u001b[0;34m=\u001b[0m\u001b[0;36m1\u001b[0m\u001b[0;34m)\u001b[0m\u001b[0;34m\u001b[0m\u001b[0m\n\u001b[0;32m---> 30\u001b[0;31m     \u001b[0mdf\u001b[0m\u001b[0;34m[\u001b[0m\u001b[0;34m'additions'\u001b[0m\u001b[0;34m]\u001b[0m\u001b[0;34m,\u001b[0m \u001b[0mdf\u001b[0m\u001b[0;34m[\u001b[0m\u001b[0;34m'deletions'\u001b[0m\u001b[0;34m]\u001b[0m \u001b[0;34m=\u001b[0m \u001b[0mzip\u001b[0m\u001b[0;34m(\u001b[0m\u001b[0;34m*\u001b[0m\u001b[0mdf\u001b[0m\u001b[0;34m.\u001b[0m\u001b[0msha\u001b[0m\u001b[0;34m.\u001b[0m\u001b[0mapply\u001b[0m\u001b[0;34m(\u001b[0m\u001b[0maddCommitStats\u001b[0m\u001b[0;34m)\u001b[0m\u001b[0;34m)\u001b[0m\u001b[0;34m\u001b[0m\u001b[0m\n\u001b[0m\u001b[1;32m     31\u001b[0m     \u001b[0mdf\u001b[0m\u001b[0;34m[\u001b[0m\u001b[0;34m'timestamp'\u001b[0m\u001b[0;34m]\u001b[0m \u001b[0;34m=\u001b[0m \u001b[0mdf\u001b[0m\u001b[0;34m[\u001b[0m\u001b[0;34m'commit'\u001b[0m\u001b[0;34m]\u001b[0m\u001b[0;34m.\u001b[0m\u001b[0mapply\u001b[0m\u001b[0;34m(\u001b[0m\u001b[0maddCommitDate\u001b[0m\u001b[0;34m)\u001b[0m\u001b[0;34m\u001b[0m\u001b[0m\n\u001b[1;32m     32\u001b[0m     \u001b[0mdf\u001b[0m\u001b[0;34m[\u001b[0m\u001b[0;34m'timestamp'\u001b[0m\u001b[0;34m]\u001b[0m \u001b[0;34m=\u001b[0m \u001b[0mpd\u001b[0m\u001b[0;34m.\u001b[0m\u001b[0mto_datetime\u001b[0m\u001b[0;34m(\u001b[0m\u001b[0mdf\u001b[0m\u001b[0;34m.\u001b[0m\u001b[0mtimestamp\u001b[0m\u001b[0;34m)\u001b[0m\u001b[0;34m\u001b[0m\u001b[0m\n",
        "\u001b[0;32m/Library/Python/2.7/site-packages/pandas/core/series.pyc\u001b[0m in \u001b[0;36mapply\u001b[0;34m(self, func, convert_dtype, args, **kwds)\u001b[0m\n\u001b[1;32m   2534\u001b[0m             \u001b[0mvalues\u001b[0m \u001b[0;34m=\u001b[0m \u001b[0mlib\u001b[0m\u001b[0;34m.\u001b[0m\u001b[0mmap_infer\u001b[0m\u001b[0;34m(\u001b[0m\u001b[0mvalues\u001b[0m\u001b[0;34m,\u001b[0m \u001b[0mlib\u001b[0m\u001b[0;34m.\u001b[0m\u001b[0mTimestamp\u001b[0m\u001b[0;34m)\u001b[0m\u001b[0;34m\u001b[0m\u001b[0m\n\u001b[1;32m   2535\u001b[0m \u001b[0;34m\u001b[0m\u001b[0m\n\u001b[0;32m-> 2536\u001b[0;31m         \u001b[0mmapped\u001b[0m \u001b[0;34m=\u001b[0m \u001b[0mlib\u001b[0m\u001b[0;34m.\u001b[0m\u001b[0mmap_infer\u001b[0m\u001b[0;34m(\u001b[0m\u001b[0mvalues\u001b[0m\u001b[0;34m,\u001b[0m \u001b[0mf\u001b[0m\u001b[0;34m,\u001b[0m \u001b[0mconvert\u001b[0m\u001b[0;34m=\u001b[0m\u001b[0mconvert_dtype\u001b[0m\u001b[0;34m)\u001b[0m\u001b[0;34m\u001b[0m\u001b[0m\n\u001b[0m\u001b[1;32m   2537\u001b[0m         \u001b[0;32mif\u001b[0m \u001b[0misinstance\u001b[0m\u001b[0;34m(\u001b[0m\u001b[0mmapped\u001b[0m\u001b[0;34m[\u001b[0m\u001b[0;36m0\u001b[0m\u001b[0;34m]\u001b[0m\u001b[0;34m,\u001b[0m \u001b[0mSeries\u001b[0m\u001b[0;34m)\u001b[0m\u001b[0;34m:\u001b[0m\u001b[0;34m\u001b[0m\u001b[0m\n\u001b[1;32m   2538\u001b[0m             \u001b[0;32mfrom\u001b[0m \u001b[0mpandas\u001b[0m\u001b[0;34m.\u001b[0m\u001b[0mcore\u001b[0m\u001b[0;34m.\u001b[0m\u001b[0mframe\u001b[0m \u001b[0;32mimport\u001b[0m \u001b[0mDataFrame\u001b[0m\u001b[0;34m\u001b[0m\u001b[0m\n",
        "\u001b[0;32m/Library/Python/2.7/site-packages/pandas/lib.so\u001b[0m in \u001b[0;36mpandas.lib.map_infer (pandas/lib.c:42840)\u001b[0;34m()\u001b[0m\n",
        "\u001b[0;32m<ipython-input-8-d8a70f205047>\u001b[0m in \u001b[0;36maddCommitStats\u001b[0;34m(sha)\u001b[0m\n\u001b[1;32m     21\u001b[0m \u001b[0;34m\u001b[0m\u001b[0m\n\u001b[1;32m     22\u001b[0m     \u001b[0;32mdef\u001b[0m \u001b[0maddCommitStats\u001b[0m\u001b[0;34m(\u001b[0m\u001b[0msha\u001b[0m\u001b[0;34m)\u001b[0m\u001b[0;34m:\u001b[0m\u001b[0;34m\u001b[0m\u001b[0m\n\u001b[0;32m---> 23\u001b[0;31m         \u001b[0mcommit\u001b[0m \u001b[0;34m=\u001b[0m \u001b[0mgetCommitInfo\u001b[0m\u001b[0;34m(\u001b[0m\u001b[0msettings\u001b[0m\u001b[0;34m,\u001b[0m \u001b[0mproject_url\u001b[0m\u001b[0;34m,\u001b[0m \u001b[0msha\u001b[0m\u001b[0;34m)\u001b[0m\u001b[0;34m[\u001b[0m\u001b[0;36m0\u001b[0m\u001b[0;34m]\u001b[0m\u001b[0;34m\u001b[0m\u001b[0m\n\u001b[0m\u001b[1;32m     24\u001b[0m         \u001b[0;32mreturn\u001b[0m \u001b[0mcommit\u001b[0m\u001b[0;34m[\u001b[0m\u001b[0;34m'stats'\u001b[0m\u001b[0;34m]\u001b[0m\u001b[0;34m[\u001b[0m\u001b[0;34m'additions'\u001b[0m\u001b[0;34m]\u001b[0m\u001b[0;34m,\u001b[0m \u001b[0mcommit\u001b[0m\u001b[0;34m[\u001b[0m\u001b[0;34m'stats'\u001b[0m\u001b[0;34m]\u001b[0m\u001b[0;34m[\u001b[0m\u001b[0;34m'deletions'\u001b[0m\u001b[0;34m]\u001b[0m\u001b[0;34m\u001b[0m\u001b[0m\n\u001b[1;32m     25\u001b[0m \u001b[0;34m\u001b[0m\u001b[0m\n",
        "\u001b[0;32m<ipython-input-3-ce035fc4ed6a>\u001b[0m in \u001b[0;36mgetCommitInfo\u001b[0;34m(settings, project_url, sha)\u001b[0m\n\u001b[1;32m     23\u001b[0m     \u001b[0murl\u001b[0m \u001b[0;34m=\u001b[0m \u001b[0mproject_url\u001b[0m \u001b[0;34m+\u001b[0m \u001b[0;34m'/commits/{0}?access_token={1}'\u001b[0m\u001b[0;34m.\u001b[0m\u001b[0mformat\u001b[0m\u001b[0;34m(\u001b[0m\u001b[0msha\u001b[0m\u001b[0;34m,\u001b[0m \u001b[0msettings\u001b[0m\u001b[0;34m[\u001b[0m\u001b[0;34m'github_token'\u001b[0m\u001b[0;34m]\u001b[0m\u001b[0;34m)\u001b[0m\u001b[0;34m\u001b[0m\u001b[0m\n\u001b[1;32m     24\u001b[0m     \u001b[0;31m#print json.load(urlopen(url))\u001b[0m\u001b[0;34m\u001b[0m\u001b[0;34m\u001b[0m\u001b[0m\n\u001b[0;32m---> 25\u001b[0;31m     \u001b[0;32mreturn\u001b[0m \u001b[0mgetPagedRequest\u001b[0m\u001b[0;34m(\u001b[0m\u001b[0murl\u001b[0m\u001b[0;34m)\u001b[0m\u001b[0;34m\u001b[0m\u001b[0m\n\u001b[0m\u001b[1;32m     26\u001b[0m \u001b[0;34m\u001b[0m\u001b[0m\n\u001b[1;32m     27\u001b[0m \u001b[0;32mdef\u001b[0m \u001b[0mgetReleases\u001b[0m\u001b[0;34m(\u001b[0m\u001b[0msettings\u001b[0m\u001b[0;34m,\u001b[0m \u001b[0mproject_url\u001b[0m\u001b[0;34m)\u001b[0m\u001b[0;34m:\u001b[0m\u001b[0;34m\u001b[0m\u001b[0m\n",
        "\u001b[0;32m<ipython-input-5-08b574bd05c3>\u001b[0m in \u001b[0;36mgetPagedRequest\u001b[0;34m(url)\u001b[0m\n\u001b[1;32m     18\u001b[0m     \u001b[0;32mwhile\u001b[0m \u001b[0murl\u001b[0m\u001b[0;34m:\u001b[0m\u001b[0;34m\u001b[0m\u001b[0m\n\u001b[1;32m     19\u001b[0m         \u001b[0;31m#print(\"fetching %s\" % url)\u001b[0m\u001b[0;34m\u001b[0m\u001b[0;34m\u001b[0m\u001b[0m\n\u001b[0;32m---> 20\u001b[0;31m         \u001b[0mf\u001b[0m \u001b[0;34m=\u001b[0m \u001b[0murlopen\u001b[0m\u001b[0;34m(\u001b[0m\u001b[0murl\u001b[0m\u001b[0;34m)\u001b[0m\u001b[0;34m\u001b[0m\u001b[0m\n\u001b[0m\u001b[1;32m     21\u001b[0m         \u001b[0mresults_json\u001b[0m \u001b[0;34m=\u001b[0m \u001b[0mjson\u001b[0m\u001b[0;34m.\u001b[0m\u001b[0mload\u001b[0m\u001b[0;34m(\u001b[0m\u001b[0mf\u001b[0m\u001b[0;34m)\u001b[0m\u001b[0;34m\u001b[0m\u001b[0m\n\u001b[1;32m     22\u001b[0m         \u001b[0;32mif\u001b[0m \u001b[0mtype\u001b[0m\u001b[0;34m(\u001b[0m\u001b[0mresults_json\u001b[0m\u001b[0;34m)\u001b[0m \u001b[0;34m==\u001b[0m \u001b[0mlist\u001b[0m\u001b[0;34m:\u001b[0m\u001b[0;34m\u001b[0m\u001b[0m\n",
        "\u001b[0;32m/System/Library/Frameworks/Python.framework/Versions/2.7/lib/python2.7/urllib2.pyc\u001b[0m in \u001b[0;36murlopen\u001b[0;34m(url, data, timeout)\u001b[0m\n\u001b[1;32m    124\u001b[0m     \u001b[0;32mif\u001b[0m \u001b[0m_opener\u001b[0m \u001b[0;32mis\u001b[0m \u001b[0mNone\u001b[0m\u001b[0;34m:\u001b[0m\u001b[0;34m\u001b[0m\u001b[0m\n\u001b[1;32m    125\u001b[0m         \u001b[0m_opener\u001b[0m \u001b[0;34m=\u001b[0m \u001b[0mbuild_opener\u001b[0m\u001b[0;34m(\u001b[0m\u001b[0;34m)\u001b[0m\u001b[0;34m\u001b[0m\u001b[0m\n\u001b[0;32m--> 126\u001b[0;31m     \u001b[0;32mreturn\u001b[0m \u001b[0m_opener\u001b[0m\u001b[0;34m.\u001b[0m\u001b[0mopen\u001b[0m\u001b[0;34m(\u001b[0m\u001b[0murl\u001b[0m\u001b[0;34m,\u001b[0m \u001b[0mdata\u001b[0m\u001b[0;34m,\u001b[0m \u001b[0mtimeout\u001b[0m\u001b[0;34m)\u001b[0m\u001b[0;34m\u001b[0m\u001b[0m\n\u001b[0m\u001b[1;32m    127\u001b[0m \u001b[0;34m\u001b[0m\u001b[0m\n\u001b[1;32m    128\u001b[0m \u001b[0;32mdef\u001b[0m \u001b[0minstall_opener\u001b[0m\u001b[0;34m(\u001b[0m\u001b[0mopener\u001b[0m\u001b[0;34m)\u001b[0m\u001b[0;34m:\u001b[0m\u001b[0;34m\u001b[0m\u001b[0m\n",
        "\u001b[0;32m/System/Library/Frameworks/Python.framework/Versions/2.7/lib/python2.7/urllib2.pyc\u001b[0m in \u001b[0;36mopen\u001b[0;34m(self, fullurl, data, timeout)\u001b[0m\n\u001b[1;32m    392\u001b[0m             \u001b[0mreq\u001b[0m \u001b[0;34m=\u001b[0m \u001b[0mmeth\u001b[0m\u001b[0;34m(\u001b[0m\u001b[0mreq\u001b[0m\u001b[0;34m)\u001b[0m\u001b[0;34m\u001b[0m\u001b[0m\n\u001b[1;32m    393\u001b[0m \u001b[0;34m\u001b[0m\u001b[0m\n\u001b[0;32m--> 394\u001b[0;31m         \u001b[0mresponse\u001b[0m \u001b[0;34m=\u001b[0m \u001b[0mself\u001b[0m\u001b[0;34m.\u001b[0m\u001b[0m_open\u001b[0m\u001b[0;34m(\u001b[0m\u001b[0mreq\u001b[0m\u001b[0;34m,\u001b[0m \u001b[0mdata\u001b[0m\u001b[0;34m)\u001b[0m\u001b[0;34m\u001b[0m\u001b[0m\n\u001b[0m\u001b[1;32m    395\u001b[0m \u001b[0;34m\u001b[0m\u001b[0m\n\u001b[1;32m    396\u001b[0m         \u001b[0;31m# post-process response\u001b[0m\u001b[0;34m\u001b[0m\u001b[0;34m\u001b[0m\u001b[0m\n",
        "\u001b[0;32m/System/Library/Frameworks/Python.framework/Versions/2.7/lib/python2.7/urllib2.pyc\u001b[0m in \u001b[0;36m_open\u001b[0;34m(self, req, data)\u001b[0m\n\u001b[1;32m    410\u001b[0m         \u001b[0mprotocol\u001b[0m \u001b[0;34m=\u001b[0m \u001b[0mreq\u001b[0m\u001b[0;34m.\u001b[0m\u001b[0mget_type\u001b[0m\u001b[0;34m(\u001b[0m\u001b[0;34m)\u001b[0m\u001b[0;34m\u001b[0m\u001b[0m\n\u001b[1;32m    411\u001b[0m         result = self._call_chain(self.handle_open, protocol, protocol +\n\u001b[0;32m--> 412\u001b[0;31m                                   '_open', req)\n\u001b[0m\u001b[1;32m    413\u001b[0m         \u001b[0;32mif\u001b[0m \u001b[0mresult\u001b[0m\u001b[0;34m:\u001b[0m\u001b[0;34m\u001b[0m\u001b[0m\n\u001b[1;32m    414\u001b[0m             \u001b[0;32mreturn\u001b[0m \u001b[0mresult\u001b[0m\u001b[0;34m\u001b[0m\u001b[0m\n",
        "\u001b[0;32m/System/Library/Frameworks/Python.framework/Versions/2.7/lib/python2.7/urllib2.pyc\u001b[0m in \u001b[0;36m_call_chain\u001b[0;34m(self, chain, kind, meth_name, *args)\u001b[0m\n\u001b[1;32m    370\u001b[0m             \u001b[0mfunc\u001b[0m \u001b[0;34m=\u001b[0m \u001b[0mgetattr\u001b[0m\u001b[0;34m(\u001b[0m\u001b[0mhandler\u001b[0m\u001b[0;34m,\u001b[0m \u001b[0mmeth_name\u001b[0m\u001b[0;34m)\u001b[0m\u001b[0;34m\u001b[0m\u001b[0m\n\u001b[1;32m    371\u001b[0m \u001b[0;34m\u001b[0m\u001b[0m\n\u001b[0;32m--> 372\u001b[0;31m             \u001b[0mresult\u001b[0m \u001b[0;34m=\u001b[0m \u001b[0mfunc\u001b[0m\u001b[0;34m(\u001b[0m\u001b[0;34m*\u001b[0m\u001b[0margs\u001b[0m\u001b[0;34m)\u001b[0m\u001b[0;34m\u001b[0m\u001b[0m\n\u001b[0m\u001b[1;32m    373\u001b[0m             \u001b[0;32mif\u001b[0m \u001b[0mresult\u001b[0m \u001b[0;32mis\u001b[0m \u001b[0;32mnot\u001b[0m \u001b[0mNone\u001b[0m\u001b[0;34m:\u001b[0m\u001b[0;34m\u001b[0m\u001b[0m\n\u001b[1;32m    374\u001b[0m                 \u001b[0;32mreturn\u001b[0m \u001b[0mresult\u001b[0m\u001b[0;34m\u001b[0m\u001b[0m\n",
        "\u001b[0;32m/System/Library/Frameworks/Python.framework/Versions/2.7/lib/python2.7/urllib2.pyc\u001b[0m in \u001b[0;36mhttps_open\u001b[0;34m(self, req)\u001b[0m\n\u001b[1;32m   1205\u001b[0m \u001b[0;34m\u001b[0m\u001b[0m\n\u001b[1;32m   1206\u001b[0m         \u001b[0;32mdef\u001b[0m \u001b[0mhttps_open\u001b[0m\u001b[0;34m(\u001b[0m\u001b[0mself\u001b[0m\u001b[0;34m,\u001b[0m \u001b[0mreq\u001b[0m\u001b[0;34m)\u001b[0m\u001b[0;34m:\u001b[0m\u001b[0;34m\u001b[0m\u001b[0m\n\u001b[0;32m-> 1207\u001b[0;31m             \u001b[0;32mreturn\u001b[0m \u001b[0mself\u001b[0m\u001b[0;34m.\u001b[0m\u001b[0mdo_open\u001b[0m\u001b[0;34m(\u001b[0m\u001b[0mhttplib\u001b[0m\u001b[0;34m.\u001b[0m\u001b[0mHTTPSConnection\u001b[0m\u001b[0;34m,\u001b[0m \u001b[0mreq\u001b[0m\u001b[0;34m)\u001b[0m\u001b[0;34m\u001b[0m\u001b[0m\n\u001b[0m\u001b[1;32m   1208\u001b[0m \u001b[0;34m\u001b[0m\u001b[0m\n\u001b[1;32m   1209\u001b[0m         \u001b[0mhttps_request\u001b[0m \u001b[0;34m=\u001b[0m \u001b[0mAbstractHTTPHandler\u001b[0m\u001b[0;34m.\u001b[0m\u001b[0mdo_request_\u001b[0m\u001b[0;34m\u001b[0m\u001b[0m\n",
        "\u001b[0;32m/System/Library/Frameworks/Python.framework/Versions/2.7/lib/python2.7/urllib2.pyc\u001b[0m in \u001b[0;36mdo_open\u001b[0;34m(self, http_class, req)\u001b[0m\n\u001b[1;32m   1168\u001b[0m             \u001b[0mh\u001b[0m\u001b[0;34m.\u001b[0m\u001b[0mrequest\u001b[0m\u001b[0;34m(\u001b[0m\u001b[0mreq\u001b[0m\u001b[0;34m.\u001b[0m\u001b[0mget_method\u001b[0m\u001b[0;34m(\u001b[0m\u001b[0;34m)\u001b[0m\u001b[0;34m,\u001b[0m \u001b[0mreq\u001b[0m\u001b[0;34m.\u001b[0m\u001b[0mget_selector\u001b[0m\u001b[0;34m(\u001b[0m\u001b[0;34m)\u001b[0m\u001b[0;34m,\u001b[0m \u001b[0mreq\u001b[0m\u001b[0;34m.\u001b[0m\u001b[0mdata\u001b[0m\u001b[0;34m,\u001b[0m \u001b[0mheaders\u001b[0m\u001b[0;34m)\u001b[0m\u001b[0;34m\u001b[0m\u001b[0m\n\u001b[1;32m   1169\u001b[0m             \u001b[0;32mtry\u001b[0m\u001b[0;34m:\u001b[0m\u001b[0;34m\u001b[0m\u001b[0m\n\u001b[0;32m-> 1170\u001b[0;31m                 \u001b[0mr\u001b[0m \u001b[0;34m=\u001b[0m \u001b[0mh\u001b[0m\u001b[0;34m.\u001b[0m\u001b[0mgetresponse\u001b[0m\u001b[0;34m(\u001b[0m\u001b[0mbuffering\u001b[0m\u001b[0;34m=\u001b[0m\u001b[0mTrue\u001b[0m\u001b[0;34m)\u001b[0m\u001b[0;34m\u001b[0m\u001b[0m\n\u001b[0m\u001b[1;32m   1171\u001b[0m             \u001b[0;32mexcept\u001b[0m \u001b[0mTypeError\u001b[0m\u001b[0;34m:\u001b[0m \u001b[0;31m#buffering kw not supported\u001b[0m\u001b[0;34m\u001b[0m\u001b[0m\n\u001b[1;32m   1172\u001b[0m                 \u001b[0mr\u001b[0m \u001b[0;34m=\u001b[0m \u001b[0mh\u001b[0m\u001b[0;34m.\u001b[0m\u001b[0mgetresponse\u001b[0m\u001b[0;34m(\u001b[0m\u001b[0;34m)\u001b[0m\u001b[0;34m\u001b[0m\u001b[0m\n",
        "\u001b[0;32m/System/Library/Frameworks/Python.framework/Versions/2.7/lib/python2.7/httplib.pyc\u001b[0m in \u001b[0;36mgetresponse\u001b[0;34m(self, buffering)\u001b[0m\n\u001b[1;32m   1025\u001b[0m         \u001b[0mresponse\u001b[0m \u001b[0;34m=\u001b[0m \u001b[0mself\u001b[0m\u001b[0;34m.\u001b[0m\u001b[0mresponse_class\u001b[0m\u001b[0;34m(\u001b[0m\u001b[0;34m*\u001b[0m\u001b[0margs\u001b[0m\u001b[0;34m,\u001b[0m \u001b[0;34m**\u001b[0m\u001b[0mkwds\u001b[0m\u001b[0;34m)\u001b[0m\u001b[0;34m\u001b[0m\u001b[0m\n\u001b[1;32m   1026\u001b[0m \u001b[0;34m\u001b[0m\u001b[0m\n\u001b[0;32m-> 1027\u001b[0;31m         \u001b[0mresponse\u001b[0m\u001b[0;34m.\u001b[0m\u001b[0mbegin\u001b[0m\u001b[0;34m(\u001b[0m\u001b[0;34m)\u001b[0m\u001b[0;34m\u001b[0m\u001b[0m\n\u001b[0m\u001b[1;32m   1028\u001b[0m         \u001b[0;32massert\u001b[0m \u001b[0mresponse\u001b[0m\u001b[0;34m.\u001b[0m\u001b[0mwill_close\u001b[0m \u001b[0;34m!=\u001b[0m \u001b[0m_UNKNOWN\u001b[0m\u001b[0;34m\u001b[0m\u001b[0m\n\u001b[1;32m   1029\u001b[0m         \u001b[0mself\u001b[0m\u001b[0;34m.\u001b[0m\u001b[0m__state\u001b[0m \u001b[0;34m=\u001b[0m \u001b[0m_CS_IDLE\u001b[0m\u001b[0;34m\u001b[0m\u001b[0m\n",
        "\u001b[0;32m/System/Library/Frameworks/Python.framework/Versions/2.7/lib/python2.7/httplib.pyc\u001b[0m in \u001b[0;36mbegin\u001b[0;34m(self)\u001b[0m\n\u001b[1;32m    405\u001b[0m         \u001b[0;31m# read until we get a non-100 response\u001b[0m\u001b[0;34m\u001b[0m\u001b[0;34m\u001b[0m\u001b[0m\n\u001b[1;32m    406\u001b[0m         \u001b[0;32mwhile\u001b[0m \u001b[0mTrue\u001b[0m\u001b[0;34m:\u001b[0m\u001b[0;34m\u001b[0m\u001b[0m\n\u001b[0;32m--> 407\u001b[0;31m             \u001b[0mversion\u001b[0m\u001b[0;34m,\u001b[0m \u001b[0mstatus\u001b[0m\u001b[0;34m,\u001b[0m \u001b[0mreason\u001b[0m \u001b[0;34m=\u001b[0m \u001b[0mself\u001b[0m\u001b[0;34m.\u001b[0m\u001b[0m_read_status\u001b[0m\u001b[0;34m(\u001b[0m\u001b[0;34m)\u001b[0m\u001b[0;34m\u001b[0m\u001b[0m\n\u001b[0m\u001b[1;32m    408\u001b[0m             \u001b[0;32mif\u001b[0m \u001b[0mstatus\u001b[0m \u001b[0;34m!=\u001b[0m \u001b[0mCONTINUE\u001b[0m\u001b[0;34m:\u001b[0m\u001b[0;34m\u001b[0m\u001b[0m\n\u001b[1;32m    409\u001b[0m                 \u001b[0;32mbreak\u001b[0m\u001b[0;34m\u001b[0m\u001b[0m\n",
        "\u001b[0;32m/System/Library/Frameworks/Python.framework/Versions/2.7/lib/python2.7/httplib.pyc\u001b[0m in \u001b[0;36m_read_status\u001b[0;34m(self)\u001b[0m\n\u001b[1;32m    363\u001b[0m     \u001b[0;32mdef\u001b[0m \u001b[0m_read_status\u001b[0m\u001b[0;34m(\u001b[0m\u001b[0mself\u001b[0m\u001b[0;34m)\u001b[0m\u001b[0;34m:\u001b[0m\u001b[0;34m\u001b[0m\u001b[0m\n\u001b[1;32m    364\u001b[0m         \u001b[0;31m# Initialize with Simple-Response defaults\u001b[0m\u001b[0;34m\u001b[0m\u001b[0;34m\u001b[0m\u001b[0m\n\u001b[0;32m--> 365\u001b[0;31m         \u001b[0mline\u001b[0m \u001b[0;34m=\u001b[0m \u001b[0mself\u001b[0m\u001b[0;34m.\u001b[0m\u001b[0mfp\u001b[0m\u001b[0;34m.\u001b[0m\u001b[0mreadline\u001b[0m\u001b[0;34m(\u001b[0m\u001b[0;34m)\u001b[0m\u001b[0;34m\u001b[0m\u001b[0m\n\u001b[0m\u001b[1;32m    366\u001b[0m         \u001b[0;32mif\u001b[0m \u001b[0mself\u001b[0m\u001b[0;34m.\u001b[0m\u001b[0mdebuglevel\u001b[0m \u001b[0;34m>\u001b[0m \u001b[0;36m0\u001b[0m\u001b[0;34m:\u001b[0m\u001b[0;34m\u001b[0m\u001b[0m\n\u001b[1;32m    367\u001b[0m             \u001b[0;32mprint\u001b[0m \u001b[0;34m\"reply:\"\u001b[0m\u001b[0;34m,\u001b[0m \u001b[0mrepr\u001b[0m\u001b[0;34m(\u001b[0m\u001b[0mline\u001b[0m\u001b[0;34m)\u001b[0m\u001b[0;34m\u001b[0m\u001b[0m\n",
        "\u001b[0;32m/System/Library/Frameworks/Python.framework/Versions/2.7/lib/python2.7/socket.pyc\u001b[0m in \u001b[0;36mreadline\u001b[0;34m(self, size)\u001b[0m\n\u001b[1;32m    445\u001b[0m             \u001b[0;32mwhile\u001b[0m \u001b[0mTrue\u001b[0m\u001b[0;34m:\u001b[0m\u001b[0;34m\u001b[0m\u001b[0m\n\u001b[1;32m    446\u001b[0m                 \u001b[0;32mtry\u001b[0m\u001b[0;34m:\u001b[0m\u001b[0;34m\u001b[0m\u001b[0m\n\u001b[0;32m--> 447\u001b[0;31m                     \u001b[0mdata\u001b[0m \u001b[0;34m=\u001b[0m \u001b[0mself\u001b[0m\u001b[0;34m.\u001b[0m\u001b[0m_sock\u001b[0m\u001b[0;34m.\u001b[0m\u001b[0mrecv\u001b[0m\u001b[0;34m(\u001b[0m\u001b[0mself\u001b[0m\u001b[0;34m.\u001b[0m\u001b[0m_rbufsize\u001b[0m\u001b[0;34m)\u001b[0m\u001b[0;34m\u001b[0m\u001b[0m\n\u001b[0m\u001b[1;32m    448\u001b[0m                 \u001b[0;32mexcept\u001b[0m \u001b[0merror\u001b[0m\u001b[0;34m,\u001b[0m \u001b[0me\u001b[0m\u001b[0;34m:\u001b[0m\u001b[0;34m\u001b[0m\u001b[0m\n\u001b[1;32m    449\u001b[0m                     \u001b[0;32mif\u001b[0m \u001b[0me\u001b[0m\u001b[0;34m.\u001b[0m\u001b[0margs\u001b[0m\u001b[0;34m[\u001b[0m\u001b[0;36m0\u001b[0m\u001b[0;34m]\u001b[0m \u001b[0;34m==\u001b[0m \u001b[0mEINTR\u001b[0m\u001b[0;34m:\u001b[0m\u001b[0;34m\u001b[0m\u001b[0m\n",
        "\u001b[0;32m/System/Library/Frameworks/Python.framework/Versions/2.7/lib/python2.7/ssl.pyc\u001b[0m in \u001b[0;36mrecv\u001b[0;34m(self, buflen, flags)\u001b[0m\n\u001b[1;32m    230\u001b[0m                     \u001b[0;34m\"non-zero flags not allowed in calls to recv() on %s\"\u001b[0m \u001b[0;34m%\u001b[0m\u001b[0;34m\u001b[0m\u001b[0m\n\u001b[1;32m    231\u001b[0m                     self.__class__)\n\u001b[0;32m--> 232\u001b[0;31m             \u001b[0;32mreturn\u001b[0m \u001b[0mself\u001b[0m\u001b[0;34m.\u001b[0m\u001b[0mread\u001b[0m\u001b[0;34m(\u001b[0m\u001b[0mbuflen\u001b[0m\u001b[0;34m)\u001b[0m\u001b[0;34m\u001b[0m\u001b[0m\n\u001b[0m\u001b[1;32m    233\u001b[0m         \u001b[0;32melse\u001b[0m\u001b[0;34m:\u001b[0m\u001b[0;34m\u001b[0m\u001b[0m\n\u001b[1;32m    234\u001b[0m             \u001b[0;32mreturn\u001b[0m \u001b[0mself\u001b[0m\u001b[0;34m.\u001b[0m\u001b[0m_sock\u001b[0m\u001b[0;34m.\u001b[0m\u001b[0mrecv\u001b[0m\u001b[0;34m(\u001b[0m\u001b[0mbuflen\u001b[0m\u001b[0;34m,\u001b[0m \u001b[0mflags\u001b[0m\u001b[0;34m)\u001b[0m\u001b[0;34m\u001b[0m\u001b[0m\n",
        "\u001b[0;32m/System/Library/Frameworks/Python.framework/Versions/2.7/lib/python2.7/ssl.pyc\u001b[0m in \u001b[0;36mread\u001b[0;34m(self, len)\u001b[0m\n\u001b[1;32m    149\u001b[0m \u001b[0;34m\u001b[0m\u001b[0m\n\u001b[1;32m    150\u001b[0m         \u001b[0;32mtry\u001b[0m\u001b[0;34m:\u001b[0m\u001b[0;34m\u001b[0m\u001b[0m\n\u001b[0;32m--> 151\u001b[0;31m             \u001b[0;32mreturn\u001b[0m \u001b[0mself\u001b[0m\u001b[0;34m.\u001b[0m\u001b[0m_sslobj\u001b[0m\u001b[0;34m.\u001b[0m\u001b[0mread\u001b[0m\u001b[0;34m(\u001b[0m\u001b[0mlen\u001b[0m\u001b[0;34m)\u001b[0m\u001b[0;34m\u001b[0m\u001b[0m\n\u001b[0m\u001b[1;32m    152\u001b[0m         \u001b[0;32mexcept\u001b[0m \u001b[0mSSLError\u001b[0m\u001b[0;34m,\u001b[0m \u001b[0mx\u001b[0m\u001b[0;34m:\u001b[0m\u001b[0;34m\u001b[0m\u001b[0m\n\u001b[1;32m    153\u001b[0m             \u001b[0;32mif\u001b[0m \u001b[0mx\u001b[0m\u001b[0;34m.\u001b[0m\u001b[0margs\u001b[0m\u001b[0;34m[\u001b[0m\u001b[0;36m0\u001b[0m\u001b[0;34m]\u001b[0m \u001b[0;34m==\u001b[0m \u001b[0mSSL_ERROR_EOF\u001b[0m \u001b[0;32mand\u001b[0m \u001b[0mself\u001b[0m\u001b[0;34m.\u001b[0m\u001b[0msuppress_ragged_eofs\u001b[0m\u001b[0;34m:\u001b[0m\u001b[0;34m\u001b[0m\u001b[0m\n",
        "\u001b[0;31mKeyboardInterrupt\u001b[0m: "
       ]
      },
      {
       "output_type": "stream",
       "stream": "stdout",
       "text": [
        "no commits.json found, getting commits and creating DataFrame\n"
       ]
      }
     ],
     "prompt_number": 9
    },
    {
     "cell_type": "code",
     "collapsed": false,
     "input": [
      "def storeCommitsDataframe(df):\n",
      "    df.to_json('commits.json')"
     ],
     "language": "python",
     "metadata": {},
     "outputs": []
    },
    {
     "cell_type": "code",
     "collapsed": false,
     "input": [
      "new_test_df = createCommitsDataframe(commits[-10:])"
     ],
     "language": "python",
     "metadata": {},
     "outputs": [
      {
       "output_type": "stream",
       "stream": "stdout",
       "text": [
        "no commits.json found, getting commits and creating DataFrame\n",
        "fetching https://api.github.com/repos/ipython/ipython/commits/307e97f08b8902e49987f01fe90ac4dc39b061fb?access_token=9ba710398a289db86db58f9d273c9ecf8c010df1"
       ]
      },
      {
       "output_type": "stream",
       "stream": "stdout",
       "text": [
        "\n",
        "fetching https://api.github.com/repos/ipython/ipython/commits/5d5d1754d1212880ea469a5e507314a8883bd1dc?access_token=9ba710398a289db86db58f9d273c9ecf8c010df1"
       ]
      },
      {
       "output_type": "stream",
       "stream": "stdout",
       "text": [
        "\n",
        "fetching https://api.github.com/repos/ipython/ipython/commits/48ae66e8fc94e079de24ddbffbc2c671ba5e7108?access_token=9ba710398a289db86db58f9d273c9ecf8c010df1"
       ]
      },
      {
       "output_type": "stream",
       "stream": "stdout",
       "text": [
        "\n",
        "fetching https://api.github.com/repos/ipython/ipython/commits/9d2adcd10817e8c1cd5718c780ba9cad7d6701de?access_token=9ba710398a289db86db58f9d273c9ecf8c010df1"
       ]
      },
      {
       "output_type": "stream",
       "stream": "stdout",
       "text": [
        "\n",
        "fetching https://api.github.com/repos/ipython/ipython/commits/c1f8f4b40cc1daf6614a53ce3fd4f14cbe9c8ce1?access_token=9ba710398a289db86db58f9d273c9ecf8c010df1"
       ]
      },
      {
       "output_type": "stream",
       "stream": "stdout",
       "text": [
        "\n",
        "fetching https://api.github.com/repos/ipython/ipython/commits/0112599c22003d099ac7d5cadabe5c16b05732bb?access_token=9ba710398a289db86db58f9d273c9ecf8c010df1"
       ]
      },
      {
       "output_type": "stream",
       "stream": "stdout",
       "text": [
        "\n",
        "fetching https://api.github.com/repos/ipython/ipython/commits/2c0ac53ece89b98379eb1299d92af66262045439?access_token=9ba710398a289db86db58f9d273c9ecf8c010df1"
       ]
      },
      {
       "output_type": "stream",
       "stream": "stdout",
       "text": [
        "\n",
        "fetching https://api.github.com/repos/ipython/ipython/commits/070700303376e7074018153fec7e1b2b36e37439?access_token=9ba710398a289db86db58f9d273c9ecf8c010df1"
       ]
      },
      {
       "output_type": "stream",
       "stream": "stdout",
       "text": [
        "\n",
        "fetching https://api.github.com/repos/ipython/ipython/commits/63f8547146684cbca1663ce5003d07da8adcd1e7?access_token=9ba710398a289db86db58f9d273c9ecf8c010df1"
       ]
      },
      {
       "output_type": "stream",
       "stream": "stdout",
       "text": [
        "\n",
        "fetching https://api.github.com/repos/ipython/ipython/commits/2f09c2ab3c6929cc9fa266fe666d312643264823?access_token=9ba710398a289db86db58f9d273c9ecf8c010df1"
       ]
      },
      {
       "output_type": "stream",
       "stream": "stdout",
       "text": [
        "\n"
       ]
      }
     ],
     "prompt_number": 201
    },
    {
     "cell_type": "code",
     "collapsed": false,
     "input": [
      "print new_test_df.columns"
     ],
     "language": "python",
     "metadata": {},
     "outputs": [
      {
       "output_type": "stream",
       "stream": "stdout",
       "text": [
        "Index([author, comments_url, commit, committer, html_url, parents, sha, url, author_name, additions, deletions, timestamp], dtype=object)\n"
       ]
      }
     ],
     "prompt_number": 192
    },
    {
     "cell_type": "code",
     "collapsed": false,
     "input": [
      "new_test_df.index = new_test_df.timestamp\n",
      "new_test_df.additions.resample('D', how='count')"
     ],
     "language": "python",
     "metadata": {},
     "outputs": [
      {
       "metadata": {},
       "output_type": "pyout",
       "prompt_number": 193,
       "text": [
        "timestamp\n",
        "2008-02-16    2\n",
        "2008-02-17    1\n",
        "2008-02-18    5\n",
        "2008-02-19    2"
       ]
      }
     ],
     "prompt_number": 193
    },
    {
     "cell_type": "code",
     "collapsed": false,
     "input": [
      "commits[10]"
     ],
     "language": "python",
     "metadata": {},
     "outputs": [
      {
       "metadata": {},
       "output_type": "pyout",
       "prompt_number": 125,
       "text": [
        "{u'author': {u'avatar_url': u'https://1.gravatar.com/avatar/d5b897c37001627c2e3ad3c1e8a7e6fb?d=https%3A%2F%2Fidenticons.github.com%2Ffd0c473f5aa5802a4e75f406e992c687.png&r=x',\n",
        "  u'events_url': u'https://api.github.com/users/minrk/events{/privacy}',\n",
        "  u'followers_url': u'https://api.github.com/users/minrk/followers',\n",
        "  u'following_url': u'https://api.github.com/users/minrk/following{/other_user}',\n",
        "  u'gists_url': u'https://api.github.com/users/minrk/gists{/gist_id}',\n",
        "  u'gravatar_id': u'd5b897c37001627c2e3ad3c1e8a7e6fb',\n",
        "  u'html_url': u'https://github.com/minrk',\n",
        "  u'id': 151929,\n",
        "  u'login': u'minrk',\n",
        "  u'organizations_url': u'https://api.github.com/users/minrk/orgs',\n",
        "  u'received_events_url': u'https://api.github.com/users/minrk/received_events',\n",
        "  u'repos_url': u'https://api.github.com/users/minrk/repos',\n",
        "  u'site_admin': False,\n",
        "  u'starred_url': u'https://api.github.com/users/minrk/starred{/owner}{/repo}',\n",
        "  u'subscriptions_url': u'https://api.github.com/users/minrk/subscriptions',\n",
        "  u'type': u'User',\n",
        "  u'url': u'https://api.github.com/users/minrk'},\n",
        " u'comments_url': u'https://api.github.com/repos/ipython/ipython/commits/d31f0a266863e23ddfb5f68d48059a5d67f6d683/comments',\n",
        " u'commit': {u'author': {u'date': u'2013-11-04T19:24:07Z',\n",
        "   u'email': u'benjaminrk@gmail.com',\n",
        "   u'name': u'MinRK'},\n",
        "  u'comment_count': 0,\n",
        "  u'committer': {u'date': u'2013-11-04T19:24:07Z',\n",
        "   u'email': u'benjaminrk@gmail.com',\n",
        "   u'name': u'MinRK'},\n",
        "  u'message': u'fix possible race condition in test_await_data\\n\\nar.data checks the latest value,\\nand was checked twice assuming no change.\\nThis could cause `4` to stop the iteration\\nbut be absent from `found`, causing test failure.',\n",
        "  u'tree': {u'sha': u'a4c9cfdc13eb62325bc0b47be320cf5055d36c7e',\n",
        "   u'url': u'https://api.github.com/repos/ipython/ipython/git/trees/a4c9cfdc13eb62325bc0b47be320cf5055d36c7e'},\n",
        "  u'url': u'https://api.github.com/repos/ipython/ipython/git/commits/d31f0a266863e23ddfb5f68d48059a5d67f6d683'},\n",
        " u'committer': {u'avatar_url': u'https://1.gravatar.com/avatar/d5b897c37001627c2e3ad3c1e8a7e6fb?d=https%3A%2F%2Fidenticons.github.com%2Ffd0c473f5aa5802a4e75f406e992c687.png&r=x',\n",
        "  u'events_url': u'https://api.github.com/users/minrk/events{/privacy}',\n",
        "  u'followers_url': u'https://api.github.com/users/minrk/followers',\n",
        "  u'following_url': u'https://api.github.com/users/minrk/following{/other_user}',\n",
        "  u'gists_url': u'https://api.github.com/users/minrk/gists{/gist_id}',\n",
        "  u'gravatar_id': u'd5b897c37001627c2e3ad3c1e8a7e6fb',\n",
        "  u'html_url': u'https://github.com/minrk',\n",
        "  u'id': 151929,\n",
        "  u'login': u'minrk',\n",
        "  u'organizations_url': u'https://api.github.com/users/minrk/orgs',\n",
        "  u'received_events_url': u'https://api.github.com/users/minrk/received_events',\n",
        "  u'repos_url': u'https://api.github.com/users/minrk/repos',\n",
        "  u'site_admin': False,\n",
        "  u'starred_url': u'https://api.github.com/users/minrk/starred{/owner}{/repo}',\n",
        "  u'subscriptions_url': u'https://api.github.com/users/minrk/subscriptions',\n",
        "  u'type': u'User',\n",
        "  u'url': u'https://api.github.com/users/minrk'},\n",
        " u'html_url': u'https://github.com/ipython/ipython/commit/d31f0a266863e23ddfb5f68d48059a5d67f6d683',\n",
        " u'parents': [{u'html_url': u'https://github.com/ipython/ipython/commit/af76829911b4c6bc8d2dfe7a6e143244a9b582a1',\n",
        "   u'sha': u'af76829911b4c6bc8d2dfe7a6e143244a9b582a1',\n",
        "   u'url': u'https://api.github.com/repos/ipython/ipython/commits/af76829911b4c6bc8d2dfe7a6e143244a9b582a1'}],\n",
        " u'sha': u'd31f0a266863e23ddfb5f68d48059a5d67f6d683',\n",
        " u'url': u'https://api.github.com/repos/ipython/ipython/commits/d31f0a266863e23ddfb5f68d48059a5d67f6d683'}"
       ]
      }
     ],
     "prompt_number": 125
    },
    {
     "cell_type": "code",
     "collapsed": false,
     "input": [
      "commits_df.groupby('author_name').size().order(ascending=False)[:10]"
     ],
     "language": "python",
     "metadata": {},
     "outputs": [
      {
       "metadata": {},
       "output_type": "pyout",
       "prompt_number": 116,
       "text": [
        "author_name\n",
        "minrk          1915\n",
        "fperez         1136\n",
        "ellisonbg       840\n",
        "takluyver       767\n",
        "Carreau         432\n",
        "epatters        203\n",
        "ivanov          194\n",
        "vivainio        173\n",
        "bfroehle        121\n",
        "jdfreder        109"
       ]
      }
     ],
     "prompt_number": 116
    },
    {
     "cell_type": "markdown",
     "metadata": {},
     "source": [
      "### Fetching / Parsing Issues"
     ]
    },
    {
     "cell_type": "code",
     "collapsed": false,
     "input": [
      "open_issues = getIssues(settings, project_url, state='open')"
     ],
     "language": "python",
     "metadata": {},
     "outputs": [],
     "prompt_number": 8
    },
    {
     "cell_type": "code",
     "collapsed": false,
     "input": [
      "open_issues[0]"
     ],
     "language": "python",
     "metadata": {},
     "outputs": [
      {
       "metadata": {},
       "output_type": "pyout",
       "prompt_number": 70,
       "text": [
        "{u'assignee': None,\n",
        " u'body': u'This is seen in 1.1. Entering the following produces an error:\\r\\n```python\\r\\nprint \\'2013-11-05T16:36:22.100000002\\'\\r\\n````\\r\\n\\r\\nThe pertinent part of the error trace shows that strptime is raising an uncaught ValueError because it\\'s not getting a format that matches up with that given in the ISO8601 variable:\\r\\n````\\r\\nFile \"/usr/lib/python2.6/site-packages/IPython/utils/jsonutil.py\", line 70, in extract_dates\\r\\n    obj[k] = extract_dates(v)\\r\\nFile \"/usr/lib/python2.6/site-packages/IPython/utils/jsonutil.py\", line 79, in extract_dates\\r\\n    obj = datetime.strptime(notz, ISO8601)\\r\\nFile \"/usr/lib64/python2.6/_strptime.py\", line 328, in _strptime\\r\\n    data_string[found.end():])\\r\\nValueError: unconverted data remains: 000\\r\\nERROR:root:Exception in callback <zmq.eventloop.stack_context._StackContextWrapper object at 0x7f0128021838>\\r\\n````\\r\\nWe came across this because our application exposes Boost Posix Time (where we uses nanosecond precision) to python.',\n",
        " u'closed_at': None,\n",
        " u'comments': 0,\n",
        " u'comments_url': u'https://api.github.com/repos/ipython/ipython/issues/4493/comments',\n",
        " u'created_at': u'2013-11-05T22:06:45Z',\n",
        " u'events_url': u'https://api.github.com/repos/ipython/ipython/issues/4493/events',\n",
        " u'html_url': u'https://github.com/ipython/ipython/issues/4493',\n",
        " u'id': 22155290,\n",
        " u'labels': [],\n",
        " u'labels_url': u'https://api.github.com/repos/ipython/ipython/issues/4493/labels{/name}',\n",
        " u'milestone': None,\n",
        " u'number': 4493,\n",
        " u'pull_request': {u'diff_url': None, u'html_url': None, u'patch_url': None},\n",
        " u'state': u'open',\n",
        " u'title': u'Qtconsole cannot print an IS8601 date at nanosecond precision',\n",
        " u'updated_at': u'2013-11-05T22:06:45Z',\n",
        " u'url': u'https://api.github.com/repos/ipython/ipython/issues/4493',\n",
        " u'user': {u'avatar_url': u'https://1.gravatar.com/avatar/2dee306c95a78b9cf073fe62734ca3e6?d=https%3A%2F%2Fidenticons.github.com%2Fdaa71d20a9776f801bdd37a0a92531ea.png&r=x',\n",
        "  u'events_url': u'https://api.github.com/users/RussellTaylor/events{/privacy}',\n",
        "  u'followers_url': u'https://api.github.com/users/RussellTaylor/followers',\n",
        "  u'following_url': u'https://api.github.com/users/RussellTaylor/following{/other_user}',\n",
        "  u'gists_url': u'https://api.github.com/users/RussellTaylor/gists{/gist_id}',\n",
        "  u'gravatar_id': u'2dee306c95a78b9cf073fe62734ca3e6',\n",
        "  u'html_url': u'https://github.com/RussellTaylor',\n",
        "  u'id': 1105131,\n",
        "  u'login': u'RussellTaylor',\n",
        "  u'organizations_url': u'https://api.github.com/users/RussellTaylor/orgs',\n",
        "  u'received_events_url': u'https://api.github.com/users/RussellTaylor/received_events',\n",
        "  u'repos_url': u'https://api.github.com/users/RussellTaylor/repos',\n",
        "  u'site_admin': False,\n",
        "  u'starred_url': u'https://api.github.com/users/RussellTaylor/starred{/owner}{/repo}',\n",
        "  u'subscriptions_url': u'https://api.github.com/users/RussellTaylor/subscriptions',\n",
        "  u'type': u'User',\n",
        "  u'url': u'https://api.github.com/users/RussellTaylor'}}"
       ]
      }
     ],
     "prompt_number": 70
    },
    {
     "cell_type": "code",
     "collapsed": false,
     "input": [
      "closed_issues = getIssues(project_url, state='closed')"
     ],
     "language": "python",
     "metadata": {},
     "outputs": [],
     "prompt_number": 10
    },
    {
     "cell_type": "code",
     "collapsed": false,
     "input": [
      "#  Note issues have ONLY a comments_url, not the actual comments\n",
      "closed_issues[0]"
     ],
     "language": "python",
     "metadata": {},
     "outputs": [
      {
       "metadata": {},
       "output_type": "pyout",
       "prompt_number": 57,
       "text": [
        "{u'assignee': None,\n",
        " u'body': u'ar.data checks the latest value, and was checked twice assuming no change. This could cause `4` to stop the iteration but be absent from `found`, causing test failure.',\n",
        " u'closed_at': u'2013-11-04T19:39:10Z',\n",
        " u'comments': 2,\n",
        " u'comments_url': u'https://api.github.com/repos/ipython/ipython/issues/4490/comments',\n",
        " u'created_at': u'2013-11-04T19:25:59Z',\n",
        " u'events_url': u'https://api.github.com/repos/ipython/ipython/issues/4490/events',\n",
        " u'html_url': u'https://github.com/ipython/ipython/pull/4490',\n",
        " u'id': 22073246,\n",
        " u'labels': [],\n",
        " u'labels_url': u'https://api.github.com/repos/ipython/ipython/issues/4490/labels{/name}',\n",
        " u'milestone': None,\n",
        " u'number': 4490,\n",
        " u'pull_request': {u'diff_url': u'https://github.com/ipython/ipython/pull/4490.diff',\n",
        "  u'html_url': u'https://github.com/ipython/ipython/pull/4490',\n",
        "  u'patch_url': u'https://github.com/ipython/ipython/pull/4490.patch'},\n",
        " u'state': u'closed',\n",
        " u'title': u'fix possible race condition in test_await_data',\n",
        " u'updated_at': u'2013-11-04T19:39:10Z',\n",
        " u'url': u'https://api.github.com/repos/ipython/ipython/issues/4490',\n",
        " u'user': {u'avatar_url': u'https://1.gravatar.com/avatar/d5b897c37001627c2e3ad3c1e8a7e6fb?d=https%3A%2F%2Fidenticons.github.com%2Ffd0c473f5aa5802a4e75f406e992c687.png&r=x',\n",
        "  u'events_url': u'https://api.github.com/users/minrk/events{/privacy}',\n",
        "  u'followers_url': u'https://api.github.com/users/minrk/followers',\n",
        "  u'following_url': u'https://api.github.com/users/minrk/following{/other_user}',\n",
        "  u'gists_url': u'https://api.github.com/users/minrk/gists{/gist_id}',\n",
        "  u'gravatar_id': u'd5b897c37001627c2e3ad3c1e8a7e6fb',\n",
        "  u'html_url': u'https://github.com/minrk',\n",
        "  u'id': 151929,\n",
        "  u'login': u'minrk',\n",
        "  u'organizations_url': u'https://api.github.com/users/minrk/orgs',\n",
        "  u'received_events_url': u'https://api.github.com/users/minrk/received_events',\n",
        "  u'repos_url': u'https://api.github.com/users/minrk/repos',\n",
        "  u'site_admin': False,\n",
        "  u'starred_url': u'https://api.github.com/users/minrk/starred{/owner}{/repo}',\n",
        "  u'subscriptions_url': u'https://api.github.com/users/minrk/subscriptions',\n",
        "  u'type': u'User',\n",
        "  u'url': u'https://api.github.com/users/minrk'}}"
       ]
      }
     ],
     "prompt_number": 57
    },
    {
     "cell_type": "code",
     "collapsed": false,
     "input": [
      "print len(open_issues)\n",
      "print len(closed_issues)"
     ],
     "language": "python",
     "metadata": {},
     "outputs": [
      {
       "output_type": "stream",
       "stream": "stdout",
       "text": [
        "661\n",
        "3731\n"
       ]
      }
     ],
     "prompt_number": 7
    },
    {
     "cell_type": "code",
     "collapsed": false,
     "input": [
      "issue_meta = ['title', 'created_at', 'labels', 'closed_at', 'user', 'id', 'number', 'comments']\n",
      "iclosed = pd.DataFrame(closed_issues, columns=issue_meta)\n",
      "iclosed['user'] = iclosed.user.map(lambda user: user['login'])"
     ],
     "language": "python",
     "metadata": {},
     "outputs": [],
     "prompt_number": 71
    },
    {
     "cell_type": "code",
     "collapsed": false,
     "input": [
      "iclosed.number[0]"
     ],
     "language": "python",
     "metadata": {},
     "outputs": [
      {
       "metadata": {},
       "output_type": "pyout",
       "prompt_number": 60,
       "text": [
        "4490"
       ]
      }
     ],
     "prompt_number": 60
    },
    {
     "cell_type": "code",
     "collapsed": false,
     "input": [
      "iopen = pd.DataFrame(open_issues, columns=issue_meta)\n",
      "iopen['user'] = iopen.user.map(lambda user: user['login'])"
     ],
     "language": "python",
     "metadata": {},
     "outputs": [],
     "prompt_number": 72
    },
    {
     "cell_type": "code",
     "collapsed": false,
     "input": [
      "iopen"
     ],
     "language": "python",
     "metadata": {},
     "outputs": [
      {
       "metadata": {},
       "output_type": "pyout",
       "prompt_number": 73,
       "text": [
        "<class 'pandas.core.frame.DataFrame'>\n",
        "Int64Index: 666 entries, 0 to 665\n",
        "Data columns:\n",
        "title         666  non-null values\n",
        "created_at    666  non-null values\n",
        "labels        666  non-null values\n",
        "closed_at     0  non-null values\n",
        "user          666  non-null values\n",
        "id            666  non-null values\n",
        "number        666  non-null values\n",
        "comments      666  non-null values\n",
        "dtypes: int64(3), object(5)"
       ]
      }
     ],
     "prompt_number": 73
    },
    {
     "cell_type": "code",
     "collapsed": false,
     "input": [
      "test_iopen = iopen[:10]"
     ],
     "language": "python",
     "metadata": {},
     "outputs": [],
     "prompt_number": 103
    },
    {
     "cell_type": "code",
     "collapsed": false,
     "input": [
      "getIssueComments(settings, project_url, 4490)"
     ],
     "language": "python",
     "metadata": {},
     "outputs": [
      {
       "metadata": {},
       "output_type": "pyout",
       "prompt_number": 146,
       "text": [
        "[{u'body': u'@takluyver has seen failures on Shining Panda that show this symptom. We will see if this is actually the needed fix.',\n",
        "  u'created_at': u'2013-11-04T19:27:34Z',\n",
        "  u'html_url': u'https://github.com/ipython/ipython/pull/4490#issuecomment-27714675',\n",
        "  u'id': 27714675,\n",
        "  u'issue_url': u'https://api.github.com/repos/ipython/ipython/issues/4490',\n",
        "  u'updated_at': u'2013-11-04T19:27:34Z',\n",
        "  u'url': u'https://api.github.com/repos/ipython/ipython/issues/comments/27714675',\n",
        "  u'user': {u'avatar_url': u'https://0.gravatar.com/avatar/d5b897c37001627c2e3ad3c1e8a7e6fb?d=https%3A%2F%2Fidenticons.github.com%2Ffd0c473f5aa5802a4e75f406e992c687.png&r=x',\n",
        "   u'events_url': u'https://api.github.com/users/minrk/events{/privacy}',\n",
        "   u'followers_url': u'https://api.github.com/users/minrk/followers',\n",
        "   u'following_url': u'https://api.github.com/users/minrk/following{/other_user}',\n",
        "   u'gists_url': u'https://api.github.com/users/minrk/gists{/gist_id}',\n",
        "   u'gravatar_id': u'd5b897c37001627c2e3ad3c1e8a7e6fb',\n",
        "   u'html_url': u'https://github.com/minrk',\n",
        "   u'id': 151929,\n",
        "   u'login': u'minrk',\n",
        "   u'organizations_url': u'https://api.github.com/users/minrk/orgs',\n",
        "   u'received_events_url': u'https://api.github.com/users/minrk/received_events',\n",
        "   u'repos_url': u'https://api.github.com/users/minrk/repos',\n",
        "   u'site_admin': False,\n",
        "   u'starred_url': u'https://api.github.com/users/minrk/starred{/owner}{/repo}',\n",
        "   u'subscriptions_url': u'https://api.github.com/users/minrk/subscriptions',\n",
        "   u'type': u'User',\n",
        "   u'url': u'https://api.github.com/users/minrk'}},\n",
        " {u'body': u\"It passes on my machine with 3.3 - I'm still seeing the interrupted system call error on 2.7.\",\n",
        "  u'created_at': u'2013-11-04T19:39:08Z',\n",
        "  u'html_url': u'https://github.com/ipython/ipython/pull/4490#issuecomment-27715731',\n",
        "  u'id': 27715731,\n",
        "  u'issue_url': u'https://api.github.com/repos/ipython/ipython/issues/4490',\n",
        "  u'updated_at': u'2013-11-04T19:39:08Z',\n",
        "  u'url': u'https://api.github.com/repos/ipython/ipython/issues/comments/27715731',\n",
        "  u'user': {u'avatar_url': u'https://2.gravatar.com/avatar/7f1ae3f14fd5b87c2c3f7b36014e185c?d=https%3A%2F%2Fidenticons.github.com%2Fca06697d9cb91b1d055c2f1a0ece221b.png&r=x',\n",
        "   u'events_url': u'https://api.github.com/users/takluyver/events{/privacy}',\n",
        "   u'followers_url': u'https://api.github.com/users/takluyver/followers',\n",
        "   u'following_url': u'https://api.github.com/users/takluyver/following{/other_user}',\n",
        "   u'gists_url': u'https://api.github.com/users/takluyver/gists{/gist_id}',\n",
        "   u'gravatar_id': u'7f1ae3f14fd5b87c2c3f7b36014e185c',\n",
        "   u'html_url': u'https://github.com/takluyver',\n",
        "   u'id': 327925,\n",
        "   u'login': u'takluyver',\n",
        "   u'organizations_url': u'https://api.github.com/users/takluyver/orgs',\n",
        "   u'received_events_url': u'https://api.github.com/users/takluyver/received_events',\n",
        "   u'repos_url': u'https://api.github.com/users/takluyver/repos',\n",
        "   u'site_admin': False,\n",
        "   u'starred_url': u'https://api.github.com/users/takluyver/starred{/owner}{/repo}',\n",
        "   u'subscriptions_url': u'https://api.github.com/users/takluyver/subscriptions',\n",
        "   u'type': u'User',\n",
        "   u'url': u'https://api.github.com/users/takluyver'}}]"
       ]
      }
     ],
     "prompt_number": 146
    },
    {
     "cell_type": "code",
     "collapsed": false,
     "input": [
      "def addComments(item):\n",
      "    if item['comments'] > 0:\n",
      "        return getIssueComments(settings, project_url, item['number'])\n",
      "    else:\n",
      "        return None\n",
      "\n",
      "test_iopen['comments_text'] = test_iopen.apply(addComments, axis=1)"
     ],
     "language": "python",
     "metadata": {},
     "outputs": [],
     "prompt_number": 107
    },
    {
     "cell_type": "code",
     "collapsed": false,
     "input": [
      "test_iopen.ix[2]"
     ],
     "language": "python",
     "metadata": {},
     "outputs": [
      {
       "metadata": {},
       "output_type": "pyout",
       "prompt_number": 106,
       "text": [
        "title            Keyboard focus does not move correctly with if...\n",
        "created_at                                    2013-11-04T19:55:23Z\n",
        "labels                                                          []\n",
        "closed_at                                                     None\n",
        "user                                                     mebersole\n",
        "id                                                        22075224\n",
        "number                                                        4491\n",
        "comments                                                         0\n",
        "comments_text                                                     \n",
        "Name: 2"
       ]
      }
     ],
     "prompt_number": 106
    },
    {
     "cell_type": "code",
     "collapsed": false,
     "input": [
      "## Top 10 creators of open issues\n",
      "iopen.groupby('user').size().order(ascending=False)[:10]"
     ],
     "language": "python",
     "metadata": {},
     "outputs": [
      {
       "metadata": {},
       "output_type": "pyout",
       "prompt_number": 67,
       "text": [
        "user\n",
        "Carreau      43\n",
        "minrk        39\n",
        "ipython      28\n",
        "ellisonbg    27\n",
        "ivanov       24\n",
        "takluyver    19\n",
        "dpsanders    16\n",
        "klonuo       10\n",
        "ribonoous     9\n",
        "fperez        9"
       ]
      }
     ],
     "prompt_number": 67
    },
    {
     "cell_type": "code",
     "collapsed": false,
     "input": [
      "## Top 10 creators of closed issues\n",
      "iclosed.groupby('user').size().order(ascending=False)[:10]"
     ],
     "language": "python",
     "metadata": {},
     "outputs": [
      {
       "metadata": {},
       "output_type": "pyout",
       "prompt_number": 13,
       "text": [
        "user\n",
        "minrk           700\n",
        "takluyver       347\n",
        "Carreau         248\n",
        "fperez          148\n",
        "ellisonbg       120\n",
        "ivanov          114\n",
        "bfroehle        100\n",
        "ipython          86\n",
        "juliantaylor     70\n",
        "jstenar          59"
       ]
      }
     ],
     "prompt_number": 13
    },
    {
     "cell_type": "code",
     "collapsed": false,
     "input": [
      "pd.to_datetime(issues.created_at).dtype"
     ],
     "language": "python",
     "metadata": {},
     "outputs": []
    },
    {
     "cell_type": "code",
     "collapsed": false,
     "input": [
      "iclosed['closed'] = True"
     ],
     "language": "python",
     "metadata": {},
     "outputs": [],
     "prompt_number": 21
    },
    {
     "cell_type": "code",
     "collapsed": false,
     "input": [
      "iopen['closed'] = False"
     ],
     "language": "python",
     "metadata": {},
     "outputs": [],
     "prompt_number": 23
    },
    {
     "cell_type": "code",
     "collapsed": false,
     "input": [
      "issues = pd.concat([iclosed, iopen], ignore_index=True)"
     ],
     "language": "python",
     "metadata": {},
     "outputs": [],
     "prompt_number": 24
    },
    {
     "cell_type": "code",
     "collapsed": false,
     "input": [
      "issues"
     ],
     "language": "python",
     "metadata": {},
     "outputs": [
      {
       "metadata": {},
       "output_type": "pyout",
       "prompt_number": 25,
       "text": [
        "<class 'pandas.core.frame.DataFrame'>\n",
        "Int64Index: 4392 entries, 0 to 4391\n",
        "Data columns:\n",
        "title         4392  non-null values\n",
        "created_at    4392  non-null values\n",
        "labels        4392  non-null values\n",
        "closed_at     3731  non-null values\n",
        "user          4392  non-null values\n",
        "id            4392  non-null values\n",
        "closed        4392  non-null values\n",
        "dtypes: bool(1), int64(1), object(5)"
       ]
      }
     ],
     "prompt_number": 25
    },
    {
     "cell_type": "code",
     "collapsed": false,
     "input": [
      "issues.groupby('closed').size()"
     ],
     "language": "python",
     "metadata": {},
     "outputs": [
      {
       "metadata": {},
       "output_type": "pyout",
       "prompt_number": 26,
       "text": [
        "closed\n",
        "False      661\n",
        "True      3731"
       ]
      }
     ],
     "prompt_number": 26
    },
    {
     "cell_type": "code",
     "collapsed": false,
     "input": [
      "issues['created_at'] = pd.to_datetime(issues.created_at)\n",
      "issues['closed_at'] = pd.to_datetime(issues.closed_at)"
     ],
     "language": "python",
     "metadata": {},
     "outputs": [],
     "prompt_number": 30
    },
    {
     "cell_type": "code",
     "collapsed": false,
     "input": [
      "issues.index = issues.created_at"
     ],
     "language": "python",
     "metadata": {},
     "outputs": [],
     "prompt_number": 31
    },
    {
     "cell_type": "code",
     "collapsed": false,
     "input": [
      "issues.user.resample('M', how='count')"
     ],
     "language": "python",
     "metadata": {},
     "outputs": [
      {
       "metadata": {},
       "output_type": "pyout",
       "prompt_number": 32,
       "text": [
        "created_at\n",
        "2010-05-31    126\n",
        "2010-06-30      4\n",
        "2010-07-31      8\n",
        "2010-08-31      8\n",
        "2010-09-30      9\n",
        "2010-10-31     42\n",
        "2010-11-30     12\n",
        "2010-12-31     29\n",
        "2011-01-31     17\n",
        "2011-02-28     27\n",
        "2011-03-31     45\n",
        "2011-04-30     78\n",
        "2011-05-31     83\n",
        "2011-06-30     60\n",
        "2011-07-31    100\n",
        "2011-08-31    102\n",
        "2011-09-30     79\n",
        "2011-10-31    128\n",
        "2011-11-30    117\n",
        "2011-12-31    143\n",
        "2012-01-31    143\n",
        "2012-02-29     97\n",
        "2012-03-31     85\n",
        "2012-04-30    135\n",
        "2012-05-31    145\n",
        "2012-06-30    247\n",
        "2012-07-31    157\n",
        "2012-08-31    145\n",
        "2012-09-30     85\n",
        "2012-10-31     83\n",
        "2012-11-30     94\n",
        "2012-12-31     97\n",
        "2013-01-31    140\n",
        "2013-02-28    119\n",
        "2013-03-31    129\n",
        "2013-04-30    129\n",
        "2013-05-31    143\n",
        "2013-06-30    109\n",
        "2013-07-31    364\n",
        "2013-08-31    290\n",
        "2013-09-30    165\n",
        "2013-10-31     74"
       ]
      }
     ],
     "prompt_number": 32
    },
    {
     "cell_type": "code",
     "collapsed": false,
     "input": [
      "issues.user.resample('M', how='count').plot(kind='bar')"
     ],
     "language": "python",
     "metadata": {},
     "outputs": [
      {
       "metadata": {},
       "output_type": "pyout",
       "prompt_number": 33,
       "text": [
        "<matplotlib.axes.AxesSubplot at 0x110b70e90>"
       ]
      }
     ],
     "prompt_number": 33
    },
    {
     "cell_type": "code",
     "collapsed": false,
     "input": [
      "issues_by_month = issues.user.resample('M', 'count')\n",
      "\n",
      "fig, axes = plt.subplots(nrows=2, ncols=1, figsize=(8, 8))\n",
      "plt.subplots_adjust(hspace=0.05)\n",
      "issues_by_month.cumsum().plot(ax=axes[1])\n",
      "issues_by_month.plot(kind='bar', ax=axes[0])\n",
      "axes[0].xaxis.set_visible(False)"
     ],
     "language": "python",
     "metadata": {},
     "outputs": [
      {
       "ename": "NameError",
       "evalue": "name 'plot' is not defined",
       "output_type": "pyerr",
       "traceback": [
        "\u001b[0;31m---------------------------------------------------------------------------\u001b[0m\n\u001b[0;31mNameError\u001b[0m                                 Traceback (most recent call last)",
        "\u001b[0;32m<ipython-input-35-8ee8a6fb71b1>\u001b[0m in \u001b[0;36m<module>\u001b[0;34m()\u001b[0m\n\u001b[1;32m      1\u001b[0m \u001b[0missues_by_month\u001b[0m \u001b[0;34m=\u001b[0m \u001b[0missues\u001b[0m\u001b[0;34m.\u001b[0m\u001b[0muser\u001b[0m\u001b[0;34m.\u001b[0m\u001b[0mresample\u001b[0m\u001b[0;34m(\u001b[0m\u001b[0;34m'M'\u001b[0m\u001b[0;34m,\u001b[0m \u001b[0;34m'count'\u001b[0m\u001b[0;34m)\u001b[0m\u001b[0;34m\u001b[0m\u001b[0m\n\u001b[1;32m      2\u001b[0m \u001b[0;34m\u001b[0m\u001b[0m\n\u001b[0;32m----> 3\u001b[0;31m \u001b[0mfig\u001b[0m\u001b[0;34m,\u001b[0m \u001b[0maxes\u001b[0m \u001b[0;34m=\u001b[0m \u001b[0mplot\u001b[0m\u001b[0;34m.\u001b[0m\u001b[0msubplots\u001b[0m\u001b[0;34m(\u001b[0m\u001b[0mnrows\u001b[0m\u001b[0;34m=\u001b[0m\u001b[0;36m2\u001b[0m\u001b[0;34m,\u001b[0m \u001b[0mncols\u001b[0m\u001b[0;34m=\u001b[0m\u001b[0;36m1\u001b[0m\u001b[0;34m,\u001b[0m \u001b[0mfigsize\u001b[0m\u001b[0;34m=\u001b[0m\u001b[0;34m(\u001b[0m\u001b[0;36m8\u001b[0m\u001b[0;34m,\u001b[0m \u001b[0;36m8\u001b[0m\u001b[0;34m)\u001b[0m\u001b[0;34m)\u001b[0m\u001b[0;34m\u001b[0m\u001b[0m\n\u001b[0m\u001b[1;32m      4\u001b[0m \u001b[0mplt\u001b[0m\u001b[0;34m.\u001b[0m\u001b[0msubplots_adjust\u001b[0m\u001b[0;34m(\u001b[0m\u001b[0mhspace\u001b[0m\u001b[0;34m=\u001b[0m\u001b[0;36m0.05\u001b[0m\u001b[0;34m)\u001b[0m\u001b[0;34m\u001b[0m\u001b[0m\n\u001b[1;32m      5\u001b[0m \u001b[0missues_by_month\u001b[0m\u001b[0;34m.\u001b[0m\u001b[0mcumsum\u001b[0m\u001b[0;34m(\u001b[0m\u001b[0;34m)\u001b[0m\u001b[0;34m.\u001b[0m\u001b[0mplot\u001b[0m\u001b[0;34m(\u001b[0m\u001b[0max\u001b[0m\u001b[0;34m=\u001b[0m\u001b[0maxes\u001b[0m\u001b[0;34m[\u001b[0m\u001b[0;36m1\u001b[0m\u001b[0;34m]\u001b[0m\u001b[0;34m)\u001b[0m\u001b[0;34m\u001b[0m\u001b[0m\n",
        "\u001b[0;31mNameError\u001b[0m: name 'plot' is not defined"
       ]
      }
     ],
     "prompt_number": 35
    },
    {
     "cell_type": "code",
     "collapsed": false,
     "input": [
      "# Time to closed\n",
      "stuff = issues[issues.closed]\n",
      "\n",
      "time_to_closed = []\n",
      "for created_at, closed_at in zip(stuff.created_at, stuff.closed_at):\n",
      "    days = (closed_at - created_at).total_seconds() / (60. * 60. * 24)\n",
      "    time_to_closed.append(days)\n",
      "\n",
      "time_to_closed_id = pd.Series(time_to_closed, index=stuff.id)\n",
      "time_to_closed = pd.Series(time_to_closed, index=stuff.created_at)\n",
      "\n",
      "time_to_closed = time_to_closed.sort_index()\n",
      "#time_to_closed.resample('M', how='mean').plot()\n",
      "time_to_closed['2011-08':].resample('M', how='mean').plot()"
     ],
     "language": "python",
     "metadata": {},
     "outputs": [
      {
       "metadata": {},
       "output_type": "pyout",
       "prompt_number": 39,
       "text": [
        "<matplotlib.axes.AxesSubplot at 0x110b70e90>"
       ]
      }
     ],
     "prompt_number": 39
    },
    {
     "cell_type": "code",
     "collapsed": false,
     "input": [
      "all_ids = []\n",
      "all_labels = []\n",
      "\n",
      "for iid, labels in zip(issues.id, issues.labels):\n",
      "    for lab in labels:\n",
      "        all_ids.append(iid)\n",
      "        all_labels.append(lab['name'])\n",
      "    \n",
      "    if len(labels) == 0:\n",
      "        all_ids.append(iid)\n",
      "        all_labels.append(None)\n",
      "    \n",
      "labels = pd.DataFrame({'id': all_ids, 'label': all_labels})\n",
      "labels.head()"
     ],
     "language": "python",
     "metadata": {},
     "outputs": [
      {
       "html": [
        "<div style=\"max-height:1000px;max-width:1500px;overflow:auto;\">\n",
        "<table border=\"1\" class=\"dataframe\">\n",
        "  <thead>\n",
        "    <tr style=\"text-align: right;\">\n",
        "      <th></th>\n",
        "      <th>id</th>\n",
        "      <th>label</th>\n",
        "    </tr>\n",
        "  </thead>\n",
        "  <tbody>\n",
        "    <tr>\n",
        "      <th>0</th>\n",
        "      <td> 20962729</td>\n",
        "      <td> None</td>\n",
        "    </tr>\n",
        "    <tr>\n",
        "      <th>1</th>\n",
        "      <td> 20901821</td>\n",
        "      <td> None</td>\n",
        "    </tr>\n",
        "    <tr>\n",
        "      <th>2</th>\n",
        "      <td> 20900301</td>\n",
        "      <td> None</td>\n",
        "    </tr>\n",
        "    <tr>\n",
        "      <th>3</th>\n",
        "      <td> 20882133</td>\n",
        "      <td> None</td>\n",
        "    </tr>\n",
        "    <tr>\n",
        "      <th>4</th>\n",
        "      <td> 20881393</td>\n",
        "      <td> None</td>\n",
        "    </tr>\n",
        "  </tbody>\n",
        "</table>\n",
        "</div>"
       ],
       "metadata": {},
       "output_type": "pyout",
       "prompt_number": 40,
       "text": [
        "         id label\n",
        "0  20962729  None\n",
        "1  20901821  None\n",
        "2  20900301  None\n",
        "3  20882133  None\n",
        "4  20881393  None"
       ]
      }
     ],
     "prompt_number": 40
    },
    {
     "cell_type": "code",
     "collapsed": false,
     "input": [
      "with_labels = pd.merge(issues, labels, on='id')\n",
      "with_labels.groupby('label').size().order(ascending=False)"
     ],
     "language": "python",
     "metadata": {},
     "outputs": [
      {
       "metadata": {},
       "output_type": "pyout",
       "prompt_number": 42,
       "text": [
        "label\n",
        "type-bug                         628\n",
        "type-enhancement                 521\n",
        "htmlnotebook                     386\n",
        "prio-medium                      345\n",
        "prio-low                         199\n",
        "prio-high                        186\n",
        "quickfix                         181\n",
        "qtconsole                        164\n",
        "needs-info                       162\n",
        "windows                          133\n",
        "prio-blocker                     114\n",
        "parallel                          96\n",
        "docs                              95\n",
        "backport-1.1                      76\n",
        "testing                           65\n",
        "backport-0.13.1                   61\n",
        "backport-0.13.2                   53\n",
        "py3k                              51\n",
        "unicode                           49\n",
        "regression                        43\n",
        "nbconvert                         37\n",
        "completion                        30\n",
        "Sprint-Friendly                   29\n",
        "osx                               28\n",
        "backport-1.2                      23\n",
        "ClosedPR                          22\n",
        "kernel                            19\n",
        "zmq-console                       17\n",
        "type-refactor                     14\n",
        "build                             10\n",
        "emacs                              9\n",
        "External-Software-Interaction      7\n",
        "R                                  5\n",
        "FakeModule                         4\n",
        "backport-0.12.2                    3\n",
        "IPEP                               3\n",
        "quarantine                         2\n",
        "config                             2"
       ]
      }
     ],
     "prompt_number": 42
    },
    {
     "cell_type": "code",
     "collapsed": false,
     "input": [
      "time_to_close_id"
     ],
     "language": "python",
     "metadata": {},
     "outputs": [
      {
       "metadata": {},
       "output_type": "pyout",
       "prompt_number": 45,
       "text": [
        "id\n",
        "20962729    0.084433\n",
        "20901821    2.898912\n",
        "20900301    2.935648\n",
        "20882133    0.119525\n",
        "20881393    0.127894\n",
        "20846152    0.000868\n",
        "20840154    0.360648\n",
        "20782298    1.248183\n",
        "20777254    1.614838\n",
        "20715065    0.023160\n",
        "20713514    0.016042\n",
        "20709918    0.032558\n",
        "20681347    2.976539\n",
        "20650037    0.851713\n",
        "20644062    0.037766\n",
        "...\n",
        "191429    336.636238\n",
        "191427    317.390162\n",
        "191424    566.842650\n",
        "191423    316.896609\n",
        "191421    705.947164\n",
        "191419    169.435694\n",
        "191417    318.432361\n",
        "191416    417.676968\n",
        "191415    324.875590\n",
        "191414    318.433345\n",
        "191413    213.592662\n",
        "191412    213.593021\n",
        "191411    316.896898\n",
        "191410    562.692766\n",
        "191409    213.591076\n",
        "Length: 3731"
       ]
      }
     ],
     "prompt_number": 45
    },
    {
     "cell_type": "code",
     "collapsed": false,
     "input": [
      "labels['time_to_close'] = labels.id.map(time_to_close_id)\n",
      "\n",
      "everything = pd.merge(issues, labels)\n",
      "\n",
      "grouped = everything.groupby('label').time_to_close\n",
      "statistics = grouped.agg(['count', 'mean', 'median', 'max', 'min'])\n",
      "\n",
      "statistics['min_minutes'] = statistics['min'] * 24 * 60\n",
      "\n",
      "statistics[statistics['count'] > 100]\n"
     ],
     "language": "python",
     "metadata": {},
     "outputs": [
      {
       "html": [
        "<div style=\"max-height:1000px;max-width:1500px;overflow:auto;\">\n",
        "<table border=\"1\" class=\"dataframe\">\n",
        "  <thead>\n",
        "    <tr style=\"text-align: right;\">\n",
        "      <th></th>\n",
        "      <th>count</th>\n",
        "      <th>mean</th>\n",
        "      <th>median</th>\n",
        "      <th>max</th>\n",
        "      <th>min</th>\n",
        "      <th>min_minutes</th>\n",
        "    </tr>\n",
        "    <tr>\n",
        "      <th>label</th>\n",
        "      <th></th>\n",
        "      <th></th>\n",
        "      <th></th>\n",
        "      <th></th>\n",
        "      <th></th>\n",
        "      <th></th>\n",
        "    </tr>\n",
        "  </thead>\n",
        "  <tbody>\n",
        "    <tr>\n",
        "      <th>htmlnotebook</th>\n",
        "      <td> 237</td>\n",
        "      <td>  74.628240</td>\n",
        "      <td>  18.375822</td>\n",
        "      <td>  631.257234</td>\n",
        "      <td> 0.011632</td>\n",
        "      <td> 16.750000</td>\n",
        "    </tr>\n",
        "    <tr>\n",
        "      <th>prio-blocker</th>\n",
        "      <td> 113</td>\n",
        "      <td>  48.557972</td>\n",
        "      <td>   4.278507</td>\n",
        "      <td>  417.676968</td>\n",
        "      <td> 0.001597</td>\n",
        "      <td>  2.300000</td>\n",
        "    </tr>\n",
        "    <tr>\n",
        "      <th>prio-high</th>\n",
        "      <td> 163</td>\n",
        "      <td>  97.183047</td>\n",
        "      <td>  25.691424</td>\n",
        "      <td>  780.069641</td>\n",
        "      <td> 0.012581</td>\n",
        "      <td> 18.116667</td>\n",
        "    </tr>\n",
        "    <tr>\n",
        "      <th>prio-low</th>\n",
        "      <td> 118</td>\n",
        "      <td> 176.391236</td>\n",
        "      <td> 123.430486</td>\n",
        "      <td>  832.632743</td>\n",
        "      <td> 0.005544</td>\n",
        "      <td>  7.983333</td>\n",
        "    </tr>\n",
        "    <tr>\n",
        "      <th>prio-medium</th>\n",
        "      <td> 243</td>\n",
        "      <td> 129.844171</td>\n",
        "      <td>  45.845995</td>\n",
        "      <td> 1198.569375</td>\n",
        "      <td> 0.006354</td>\n",
        "      <td>  9.150000</td>\n",
        "    </tr>\n",
        "    <tr>\n",
        "      <th>qtconsole</th>\n",
        "      <td> 115</td>\n",
        "      <td>  71.121518</td>\n",
        "      <td>  22.907280</td>\n",
        "      <td>  571.736146</td>\n",
        "      <td> 0.049641</td>\n",
        "      <td> 71.483333</td>\n",
        "    </tr>\n",
        "    <tr>\n",
        "      <th>quickfix</th>\n",
        "      <td> 163</td>\n",
        "      <td>  58.940880</td>\n",
        "      <td>   6.778426</td>\n",
        "      <td>  666.148727</td>\n",
        "      <td> 0.006354</td>\n",
        "      <td>  9.150000</td>\n",
        "    </tr>\n",
        "    <tr>\n",
        "      <th>type-bug</th>\n",
        "      <td> 527</td>\n",
        "      <td>  76.628872</td>\n",
        "      <td>  12.026574</td>\n",
        "      <td> 1198.569375</td>\n",
        "      <td> 0.005093</td>\n",
        "      <td>  7.333333</td>\n",
        "    </tr>\n",
        "    <tr>\n",
        "      <th>type-enhancement</th>\n",
        "      <td> 281</td>\n",
        "      <td> 159.403381</td>\n",
        "      <td>  69.603877</td>\n",
        "      <td>  815.127303</td>\n",
        "      <td> 0.011748</td>\n",
        "      <td> 16.916667</td>\n",
        "    </tr>\n",
        "  </tbody>\n",
        "</table>\n",
        "</div>"
       ],
       "metadata": {},
       "output_type": "pyout",
       "prompt_number": 46,
       "text": [
        "                  count        mean      median          max       min  min_minutes\n",
        "label                                                                              \n",
        "htmlnotebook        237   74.628240   18.375822   631.257234  0.011632    16.750000\n",
        "prio-blocker        113   48.557972    4.278507   417.676968  0.001597     2.300000\n",
        "prio-high           163   97.183047   25.691424   780.069641  0.012581    18.116667\n",
        "prio-low            118  176.391236  123.430486   832.632743  0.005544     7.983333\n",
        "prio-medium         243  129.844171   45.845995  1198.569375  0.006354     9.150000\n",
        "qtconsole           115   71.121518   22.907280   571.736146  0.049641    71.483333\n",
        "quickfix            163   58.940880    6.778426   666.148727  0.006354     9.150000\n",
        "type-bug            527   76.628872   12.026574  1198.569375  0.005093     7.333333\n",
        "type-enhancement    281  159.403381   69.603877   815.127303  0.011748    16.916667"
       ]
      }
     ],
     "prompt_number": 46
    },
    {
     "cell_type": "code",
     "collapsed": false,
     "input": [
      "labels['time_to_close'] = labels.id.map(time_to_closed_id)\n",
      "labels.groupby('label').time_to_close.agg(['mean', 'count']).sort('count')"
     ],
     "language": "python",
     "metadata": {},
     "outputs": [
      {
       "html": [
        "<div style=\"max-height:1000px;max-width:1500px;overflow:auto;\">\n",
        "<table border=\"1\" class=\"dataframe\">\n",
        "  <thead>\n",
        "    <tr style=\"text-align: right;\">\n",
        "      <th></th>\n",
        "      <th>mean</th>\n",
        "      <th>count</th>\n",
        "    </tr>\n",
        "    <tr>\n",
        "      <th>label</th>\n",
        "      <th></th>\n",
        "      <th></th>\n",
        "    </tr>\n",
        "  </thead>\n",
        "  <tbody>\n",
        "    <tr>\n",
        "      <th>IPEP</th>\n",
        "      <td>        NaN</td>\n",
        "      <td>   0</td>\n",
        "    </tr>\n",
        "    <tr>\n",
        "      <th>R</th>\n",
        "      <td>        NaN</td>\n",
        "      <td>   0</td>\n",
        "    </tr>\n",
        "    <tr>\n",
        "      <th>config</th>\n",
        "      <td>        NaN</td>\n",
        "      <td>   0</td>\n",
        "    </tr>\n",
        "    <tr>\n",
        "      <th>ClosedPR</th>\n",
        "      <td>  92.510955</td>\n",
        "      <td>   2</td>\n",
        "    </tr>\n",
        "    <tr>\n",
        "      <th>quarantine</th>\n",
        "      <td> 315.650301</td>\n",
        "      <td>   2</td>\n",
        "    </tr>\n",
        "    <tr>\n",
        "      <th>emacs</th>\n",
        "      <td>  79.707604</td>\n",
        "      <td>   2</td>\n",
        "    </tr>\n",
        "    <tr>\n",
        "      <th>External-Software-Interaction</th>\n",
        "      <td>  44.343102</td>\n",
        "      <td>   3</td>\n",
        "    </tr>\n",
        "    <tr>\n",
        "      <th>FakeModule</th>\n",
        "      <td> 455.124117</td>\n",
        "      <td>   3</td>\n",
        "    </tr>\n",
        "    <tr>\n",
        "      <th>backport-0.12.2</th>\n",
        "      <td>  25.787133</td>\n",
        "      <td>   3</td>\n",
        "    </tr>\n",
        "    <tr>\n",
        "      <th>zmq-console</th>\n",
        "      <td>  56.801958</td>\n",
        "      <td>   5</td>\n",
        "    </tr>\n",
        "    <tr>\n",
        "      <th>type-refactor</th>\n",
        "      <td> 116.553737</td>\n",
        "      <td>   7</td>\n",
        "    </tr>\n",
        "    <tr>\n",
        "      <th>build</th>\n",
        "      <td>  37.338471</td>\n",
        "      <td>   8</td>\n",
        "    </tr>\n",
        "    <tr>\n",
        "      <th>kernel</th>\n",
        "      <td>  93.848644</td>\n",
        "      <td>   8</td>\n",
        "    </tr>\n",
        "    <tr>\n",
        "      <th>completion</th>\n",
        "      <td>  51.676701</td>\n",
        "      <td>  13</td>\n",
        "    </tr>\n",
        "    <tr>\n",
        "      <th>Sprint-Friendly</th>\n",
        "      <td> 145.715911</td>\n",
        "      <td>  15</td>\n",
        "    </tr>\n",
        "    <tr>\n",
        "      <th>backport-1.2</th>\n",
        "      <td>   7.149471</td>\n",
        "      <td>  22</td>\n",
        "    </tr>\n",
        "    <tr>\n",
        "      <th>osx</th>\n",
        "      <td>  98.766181</td>\n",
        "      <td>  24</td>\n",
        "    </tr>\n",
        "    <tr>\n",
        "      <th>nbconvert</th>\n",
        "      <td>  17.141955</td>\n",
        "      <td>  24</td>\n",
        "    </tr>\n",
        "    <tr>\n",
        "      <th>regression</th>\n",
        "      <td>  34.940837</td>\n",
        "      <td>  36</td>\n",
        "    </tr>\n",
        "    <tr>\n",
        "      <th>unicode</th>\n",
        "      <td> 102.179479</td>\n",
        "      <td>  44</td>\n",
        "    </tr>\n",
        "    <tr>\n",
        "      <th>py3k</th>\n",
        "      <td>  45.765563</td>\n",
        "      <td>  46</td>\n",
        "    </tr>\n",
        "    <tr>\n",
        "      <th>backport-0.13.2</th>\n",
        "      <td>   5.710952</td>\n",
        "      <td>  53</td>\n",
        "    </tr>\n",
        "    <tr>\n",
        "      <th>testing</th>\n",
        "      <td> 101.874610</td>\n",
        "      <td>  53</td>\n",
        "    </tr>\n",
        "    <tr>\n",
        "      <th>backport-0.13.1</th>\n",
        "      <td>   3.612386</td>\n",
        "      <td>  61</td>\n",
        "    </tr>\n",
        "    <tr>\n",
        "      <th>docs</th>\n",
        "      <td> 111.583885</td>\n",
        "      <td>  70</td>\n",
        "    </tr>\n",
        "    <tr>\n",
        "      <th>parallel</th>\n",
        "      <td>  62.876434</td>\n",
        "      <td>  75</td>\n",
        "    </tr>\n",
        "    <tr>\n",
        "      <th>backport-1.1</th>\n",
        "      <td>   5.023597</td>\n",
        "      <td>  76</td>\n",
        "    </tr>\n",
        "    <tr>\n",
        "      <th>needs-info</th>\n",
        "      <td>  65.862678</td>\n",
        "      <td>  88</td>\n",
        "    </tr>\n",
        "    <tr>\n",
        "      <th>windows</th>\n",
        "      <td> 136.320697</td>\n",
        "      <td>  95</td>\n",
        "    </tr>\n",
        "    <tr>\n",
        "      <th>prio-blocker</th>\n",
        "      <td>  48.557972</td>\n",
        "      <td> 113</td>\n",
        "    </tr>\n",
        "    <tr>\n",
        "      <th>qtconsole</th>\n",
        "      <td>  71.121518</td>\n",
        "      <td> 115</td>\n",
        "    </tr>\n",
        "    <tr>\n",
        "      <th>prio-low</th>\n",
        "      <td> 176.391236</td>\n",
        "      <td> 118</td>\n",
        "    </tr>\n",
        "    <tr>\n",
        "      <th>quickfix</th>\n",
        "      <td>  58.940880</td>\n",
        "      <td> 163</td>\n",
        "    </tr>\n",
        "    <tr>\n",
        "      <th>prio-high</th>\n",
        "      <td>  97.183047</td>\n",
        "      <td> 163</td>\n",
        "    </tr>\n",
        "    <tr>\n",
        "      <th>htmlnotebook</th>\n",
        "      <td>  74.628240</td>\n",
        "      <td> 237</td>\n",
        "    </tr>\n",
        "    <tr>\n",
        "      <th>prio-medium</th>\n",
        "      <td> 129.844171</td>\n",
        "      <td> 243</td>\n",
        "    </tr>\n",
        "    <tr>\n",
        "      <th>type-enhancement</th>\n",
        "      <td> 159.403381</td>\n",
        "      <td> 281</td>\n",
        "    </tr>\n",
        "    <tr>\n",
        "      <th>type-bug</th>\n",
        "      <td>  76.628872</td>\n",
        "      <td> 527</td>\n",
        "    </tr>\n",
        "  </tbody>\n",
        "</table>\n",
        "</div>"
       ],
       "metadata": {},
       "output_type": "pyout",
       "prompt_number": 47,
       "text": [
        "                                     mean  count\n",
        "label                                           \n",
        "IPEP                                  NaN      0\n",
        "R                                     NaN      0\n",
        "config                                NaN      0\n",
        "ClosedPR                        92.510955      2\n",
        "quarantine                     315.650301      2\n",
        "emacs                           79.707604      2\n",
        "External-Software-Interaction   44.343102      3\n",
        "FakeModule                     455.124117      3\n",
        "backport-0.12.2                 25.787133      3\n",
        "zmq-console                     56.801958      5\n",
        "type-refactor                  116.553737      7\n",
        "build                           37.338471      8\n",
        "kernel                          93.848644      8\n",
        "completion                      51.676701     13\n",
        "Sprint-Friendly                145.715911     15\n",
        "backport-1.2                     7.149471     22\n",
        "osx                             98.766181     24\n",
        "nbconvert                       17.141955     24\n",
        "regression                      34.940837     36\n",
        "unicode                        102.179479     44\n",
        "py3k                            45.765563     46\n",
        "backport-0.13.2                  5.710952     53\n",
        "testing                        101.874610     53\n",
        "backport-0.13.1                  3.612386     61\n",
        "docs                           111.583885     70\n",
        "parallel                        62.876434     75\n",
        "backport-1.1                     5.023597     76\n",
        "needs-info                      65.862678     88\n",
        "windows                        136.320697     95\n",
        "prio-blocker                    48.557972    113\n",
        "qtconsole                       71.121518    115\n",
        "prio-low                       176.391236    118\n",
        "quickfix                        58.940880    163\n",
        "prio-high                       97.183047    163\n",
        "htmlnotebook                    74.628240    237\n",
        "prio-medium                    129.844171    243\n",
        "type-enhancement               159.403381    281\n",
        "type-bug                        76.628872    527"
       ]
      }
     ],
     "prompt_number": 47
    },
    {
     "cell_type": "code",
     "collapsed": false,
     "input": [],
     "language": "python",
     "metadata": {},
     "outputs": []
    },
    {
     "cell_type": "code",
     "collapsed": false,
     "input": [],
     "language": "python",
     "metadata": {},
     "outputs": []
    }
   ],
   "metadata": {}
  }
 ]
}